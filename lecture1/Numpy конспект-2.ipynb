{
 "cells": [
  {
   "cell_type": "markdown",
   "id": "62bfe361-72b5-4f85-add7-bb767c5f4da1",
   "metadata": {},
   "source": [
    "# NumPy"
   ]
  },
  {
   "cell_type": "code",
   "execution_count": 5,
   "id": "f735594d-2eb5-40e2-b5f8-487cb6c7cabf",
   "metadata": {},
   "outputs": [],
   "source": [
    "import numpy as np\n",
    "import sys\n",
    "import array"
   ]
  },
  {
   "cell_type": "code",
   "execution_count": 7,
   "id": "35aab99b-697c-4c3c-b823-a6c986b23bbd",
   "metadata": {},
   "outputs": [
    {
     "name": "stdout",
     "output_type": "stream",
     "text": [
      "<class 'int'>\n",
      "28\n"
     ]
    }
   ],
   "source": [
    "# Типы данных Python\n",
    "x = 1\n",
    "print(type(x))\n",
    "print(sys.getsizeof(x))"
   ]
  },
  {
   "cell_type": "code",
   "execution_count": 9,
   "id": "ef0f178c-588a-4551-ac2f-421bf5496ce5",
   "metadata": {},
   "outputs": [
    {
     "name": "stdout",
     "output_type": "stream",
     "text": [
      "<class 'str'>\n"
     ]
    }
   ],
   "source": [
    "x = 'hello'\n",
    "print(type(x))"
   ]
  },
  {
   "cell_type": "code",
   "execution_count": 11,
   "id": "85e5d76c-f3b6-43c7-8fd8-16202db61c7f",
   "metadata": {},
   "outputs": [
    {
     "name": "stdout",
     "output_type": "stream",
     "text": [
      "<class 'bool'>\n"
     ]
    }
   ],
   "source": [
    "x = True\n",
    "print(type(x))"
   ]
  },
  {
   "cell_type": "code",
   "execution_count": 13,
   "id": "a7ce3d50-6bec-44fb-9bbe-63a6f8a710fe",
   "metadata": {},
   "outputs": [
    {
     "name": "stdout",
     "output_type": "stream",
     "text": [
      "56\n"
     ]
    }
   ],
   "source": [
    "l1 = list([])\n",
    "print(sys.getsizeof(l1))"
   ]
  },
  {
   "cell_type": "code",
   "execution_count": 15,
   "id": "5012b5db-ea9a-46f7-b93c-d53221279617",
   "metadata": {},
   "outputs": [
    {
     "name": "stdout",
     "output_type": "stream",
     "text": [
      "88\n"
     ]
    }
   ],
   "source": [
    "l2 = list([1, 2, 3])\n",
    "print(sys.getsizeof(l2))"
   ]
  },
  {
   "cell_type": "code",
   "execution_count": 17,
   "id": "3b77ed62-cf30-40ec-8464-9a59e29b138c",
   "metadata": {},
   "outputs": [
    {
     "name": "stdout",
     "output_type": "stream",
     "text": [
      "[1, '2', True]\n"
     ]
    }
   ],
   "source": [
    "l3 = list([1, \"2\", True])\n",
    "print(l3)"
   ]
  },
  {
   "cell_type": "code",
   "execution_count": 19,
   "id": "94de3d88-d8b4-4f5f-b9bb-925b7e7ee253",
   "metadata": {},
   "outputs": [
    {
     "name": "stdout",
     "output_type": "stream",
     "text": [
      "92\n",
      "<class 'array.array'>\n"
     ]
    }
   ],
   "source": [
    "a1 = array.array('i', [1, 2, 3])\n",
    "print(sys.getsizeof(a1))\n",
    "print(type(a1))"
   ]
  },
  {
   "cell_type": "code",
   "execution_count": 22,
   "id": "767c4467-51eb-4140-8d4f-7713592c1562",
   "metadata": {},
   "outputs": [],
   "source": [
    "# Numpy"
   ]
  },
  {
   "cell_type": "code",
   "execution_count": 24,
   "id": "b17d4142-3f15-42d9-8d85-f3bb8dcc00c2",
   "metadata": {},
   "outputs": [
    {
     "name": "stdout",
     "output_type": "stream",
     "text": [
      "<class 'numpy.ndarray'> [1 2 3 4 5]\n"
     ]
    }
   ],
   "source": [
    "a = np.array([1, 2, 3, 4, 5])\n",
    "print(type(a), a)"
   ]
  },
  {
   "cell_type": "code",
   "execution_count": 26,
   "id": "3eee6818-296e-4bd8-9b02-057b19f25b53",
   "metadata": {},
   "outputs": [
    {
     "name": "stdout",
     "output_type": "stream",
     "text": [
      "<class 'numpy.ndarray'> [1.23 2.   3.   4.   5.  ]\n"
     ]
    }
   ],
   "source": [
    "# повыщающее приведение типов\n",
    "a = np.array([1.23, 2, 3, 4, 5])\n",
    "print(type(a), a)"
   ]
  },
  {
   "cell_type": "code",
   "execution_count": 28,
   "id": "7eda4fcc-685e-46c3-bb04-d0db03eb3fc1",
   "metadata": {},
   "outputs": [
    {
     "name": "stdout",
     "output_type": "stream",
     "text": [
      "<class 'numpy.ndarray'> [1 2 3 4 5]\n"
     ]
    }
   ],
   "source": [
    "a = np.array([1.23, 2, 3, 4, 5], dtype=int)\n",
    "print(type(a), a)"
   ]
  },
  {
   "cell_type": "code",
   "execution_count": 30,
   "id": "225459c6-ea61-4e51-ae2a-9f3a34c069da",
   "metadata": {},
   "outputs": [
    {
     "name": "stdout",
     "output_type": "stream",
     "text": [
      "[[2 3 4]\n",
      " [4 5 6]\n",
      " [6 7 8]] <class 'numpy.ndarray'>\n"
     ]
    }
   ],
   "source": [
    "a = np.array([range(i, i+3) for i in [2, 4, 6]])\n",
    "print(a, type(a[0]))"
   ]
  },
  {
   "cell_type": "code",
   "execution_count": 32,
   "id": "b6dada04-ff7b-4459-b857-18d7fdced716",
   "metadata": {},
   "outputs": [
    {
     "name": "stdout",
     "output_type": "stream",
     "text": [
      "[0 0 0 0 0 0 0 0 0 0] <class 'numpy.ndarray'>\n"
     ]
    }
   ],
   "source": [
    "a = np.zeros(10, dtype=int)\n",
    "print(a, type(a))"
   ]
  },
  {
   "cell_type": "code",
   "execution_count": 34,
   "id": "571c7af2-fc20-4348-b7d6-ebc2038e709a",
   "metadata": {},
   "outputs": [
    {
     "name": "stdout",
     "output_type": "stream",
     "text": [
      "[[1. 1. 1. 1. 1.]\n",
      " [1. 1. 1. 1. 1.]\n",
      " [1. 1. 1. 1. 1.]]\n"
     ]
    }
   ],
   "source": [
    "print(np.ones((3, 5), dtype=float))"
   ]
  },
  {
   "cell_type": "code",
   "execution_count": 36,
   "id": "08ce7338-8790-4748-89b1-fc8b8116bebb",
   "metadata": {},
   "outputs": [
    {
     "name": "stdout",
     "output_type": "stream",
     "text": [
      "[[3.1415 3.1415 3.1415 3.1415 3.1415]\n",
      " [3.1415 3.1415 3.1415 3.1415 3.1415]\n",
      " [3.1415 3.1415 3.1415 3.1415 3.1415]\n",
      " [3.1415 3.1415 3.1415 3.1415 3.1415]]\n"
     ]
    }
   ],
   "source": [
    "print(np.full((4, 5), 3.1415))"
   ]
  },
  {
   "cell_type": "code",
   "execution_count": 38,
   "id": "3cc311ac-0989-49df-8373-252b108e066c",
   "metadata": {},
   "outputs": [
    {
     "name": "stdout",
     "output_type": "stream",
     "text": [
      "[ 0  2  4  6  8 10 12 14 16 18]\n"
     ]
    }
   ],
   "source": [
    "print(np.arange(0, 20, 2))"
   ]
  },
  {
   "cell_type": "code",
   "execution_count": 40,
   "id": "dd1e74df-0378-4b48-bfd4-ea36051ed90f",
   "metadata": {},
   "outputs": [
    {
     "name": "stdout",
     "output_type": "stream",
     "text": [
      "[[1. 0. 0. 0.]\n",
      " [0. 1. 0. 0.]\n",
      " [0. 0. 1. 0.]\n",
      " [0. 0. 0. 1.]]\n"
     ]
    }
   ],
   "source": [
    "print(np.eye(4))"
   ]
  },
  {
   "cell_type": "code",
   "execution_count": 43,
   "id": "7deb9fe4-c9f5-46a2-93ed-034cfb50114a",
   "metadata": {},
   "outputs": [],
   "source": [
    "### МАССИВЫ "
   ]
  },
  {
   "cell_type": "code",
   "execution_count": 45,
   "id": "63d453cc-bee6-4501-8f82-84287bf22161",
   "metadata": {},
   "outputs": [
    {
     "name": "stdout",
     "output_type": "stream",
     "text": [
      "[5 8 9]\n",
      "[[5 0]\n",
      " [0 1]\n",
      " [7 6]]\n",
      "[[[9 2]\n",
      "  [4 5]]\n",
      "\n",
      " [[2 4]\n",
      "  [2 4]]\n",
      "\n",
      " [[7 7]\n",
      "  [9 1]]]\n"
     ]
    }
   ],
   "source": [
    "np.random.seed(1)\n",
    "x1 = np.random.randint(10, size=3)\n",
    "x2 = np.random.randint(10, size=(3, 2))\n",
    "x3 = np.random.randint(10, size=(3, 2, 2))\n",
    "print(x1)\n",
    "print(x2)\n",
    "print(x3)"
   ]
  },
  {
   "cell_type": "code",
   "execution_count": 47,
   "id": "60d029a2-4ff9-4609-9c7d-f1fa4a24840b",
   "metadata": {},
   "outputs": [
    {
     "name": "stdout",
     "output_type": "stream",
     "text": [
      "1 (3,) 3\n",
      "2 (3, 2) 6\n",
      "3 (3, 2, 2) 12\n"
     ]
    }
   ],
   "source": [
    "print(x1.ndim, x1.shape, x1.size)\n",
    "print(x2.ndim, x2.shape, x2.size)\n",
    "print(x3.ndim, x3.shape, x3.size)"
   ]
  },
  {
   "cell_type": "code",
   "execution_count": 49,
   "id": "5422865c-5c2f-4678-94c3-13bc08d9cf12",
   "metadata": {},
   "outputs": [],
   "source": [
    "# Индекс (с 0)"
   ]
  },
  {
   "cell_type": "code",
   "execution_count": 51,
   "id": "a0c53d4a-7578-4661-8b09-661c076709db",
   "metadata": {},
   "outputs": [
    {
     "name": "stdout",
     "output_type": "stream",
     "text": [
      "1\n",
      "4\n"
     ]
    }
   ],
   "source": [
    "a = np.array([1, 2, 3, 4, 5])\n",
    "print(a[0])\n",
    "print(a[-2])"
   ]
  },
  {
   "cell_type": "code",
   "execution_count": 53,
   "id": "21801dd8-8420-4195-a6a4-b6b34163a258",
   "metadata": {},
   "outputs": [
    {
     "name": "stdout",
     "output_type": "stream",
     "text": [
      "[ 1 20  3  4  5]\n"
     ]
    }
   ],
   "source": [
    "a[1] = 20\n",
    "print(a)"
   ]
  },
  {
   "cell_type": "code",
   "execution_count": 55,
   "id": "ac72efef-9530-45d1-a3cf-190e509294bf",
   "metadata": {},
   "outputs": [
    {
     "name": "stdout",
     "output_type": "stream",
     "text": [
      "[[1 2]\n",
      " [3 4]]\n"
     ]
    }
   ],
   "source": [
    "a = np.array([[1, 2], [3, 4]])\n",
    "print(a)"
   ]
  },
  {
   "cell_type": "code",
   "execution_count": 57,
   "id": "2968dc83-e7eb-4a79-9b8c-339079928f7d",
   "metadata": {},
   "outputs": [
    {
     "name": "stdout",
     "output_type": "stream",
     "text": [
      "1\n",
      "4\n"
     ]
    }
   ],
   "source": [
    "print(a[0, 0])\n",
    "print(a[-1, -1])"
   ]
  },
  {
   "cell_type": "code",
   "execution_count": 59,
   "id": "9e9fa208-c83a-40e5-ada6-23d6215a4d56",
   "metadata": {},
   "outputs": [
    {
     "name": "stdout",
     "output_type": "stream",
     "text": [
      "[[  1   2]\n",
      " [100   4]]\n"
     ]
    }
   ],
   "source": [
    "a[1, 0] = 100\n",
    "print(a)"
   ]
  },
  {
   "cell_type": "code",
   "execution_count": 61,
   "id": "adf9fcb2-86f3-4025-94c2-1a8576a81a0a",
   "metadata": {},
   "outputs": [
    {
     "name": "stdout",
     "output_type": "stream",
     "text": [
      "[1 2 3 4]\n",
      "[1. 2. 3. 4.]\n"
     ]
    }
   ],
   "source": [
    "a = np.array([1, 2, 3, 4])\n",
    "b = np.array([1, 2, 3, 4], dtype=float)\n",
    "print(a)\n",
    "print(b)"
   ]
  },
  {
   "cell_type": "code",
   "execution_count": 63,
   "id": "48dd381c-9da3-4fb2-bc97-93541c207486",
   "metadata": {},
   "outputs": [
    {
     "name": "stdout",
     "output_type": "stream",
     "text": [
      "[10  2  3  4]\n"
     ]
    }
   ],
   "source": [
    "a[0] = 10\n",
    "print(a)"
   ]
  },
  {
   "cell_type": "code",
   "execution_count": 65,
   "id": "1431e667-007c-415f-a077-05b34b0e322d",
   "metadata": {},
   "outputs": [
    {
     "name": "stdout",
     "output_type": "stream",
     "text": [
      "[10  2  3  4]\n"
     ]
    }
   ],
   "source": [
    "a[0] = 10.123\n",
    "print(a)"
   ]
  },
  {
   "cell_type": "code",
   "execution_count": 67,
   "id": "b56f690f-229d-4405-8a59-77d6c4c2751f",
   "metadata": {},
   "outputs": [],
   "source": [
    "## Срез [s:f:st] [0:shape:1]"
   ]
  },
  {
   "cell_type": "code",
   "execution_count": 69,
   "id": "df31bc34-18a9-4a77-bbae-765aea482220",
   "metadata": {},
   "outputs": [
    {
     "name": "stdout",
     "output_type": "stream",
     "text": [
      "[1 2 3]\n",
      "[4 5 6]\n",
      "[2 3 4 5]\n",
      "[2 3 4 5]\n",
      "[2 4 6]\n",
      "[2 4 6]\n",
      "[1 2 3 4 5 6]\n",
      "[6 5 4 3 2 1]\n"
     ]
    }
   ],
   "source": [
    "a = np.array([1, 2, 3, 4, 5, 6])\n",
    "print(a[:3:])\n",
    "print(a[3:])\n",
    "print(a[1:5])\n",
    "print(a[1:-1])\n",
    "print(a[1:6:2])\n",
    "print(a[1::2])\n",
    "print(a[::1])\n",
    "print(a[::-1])"
   ]
  },
  {
   "cell_type": "code",
   "execution_count": 71,
   "id": "1d3af420-ac16-4129-9c96-ea1794bd1726",
   "metadata": {},
   "outputs": [
    {
     "name": "stdout",
     "output_type": "stream",
     "text": [
      "[1 2 3]\n"
     ]
    }
   ],
   "source": [
    "b = a[:3]\n",
    "print(b)"
   ]
  },
  {
   "cell_type": "code",
   "execution_count": 73,
   "id": "735ab42f-6a0a-41a3-b58e-c5e03cad56ae",
   "metadata": {},
   "outputs": [
    {
     "name": "stdout",
     "output_type": "stream",
     "text": [
      "[100   2   3   4   5   6]\n"
     ]
    }
   ],
   "source": [
    "b[0] = 100\n",
    "print(a)"
   ]
  },
  {
   "cell_type": "code",
   "execution_count": 75,
   "id": "d79c5b4a-083a-42fb-a6e5-26a9e4a282a6",
   "metadata": {},
   "outputs": [
    {
     "name": "stdout",
     "output_type": "stream",
     "text": [
      "[ 1  2  3  4  5  6  7  8  9 10 11 12]\n"
     ]
    }
   ],
   "source": [
    "a = np.arange(1, 13)\n",
    "print(a)"
   ]
  },
  {
   "cell_type": "code",
   "execution_count": 77,
   "id": "aae834a6-3de7-4a9f-8449-b0787834d4d5",
   "metadata": {},
   "outputs": [
    {
     "name": "stdout",
     "output_type": "stream",
     "text": [
      "[[ 1  2  3  4  5  6]\n",
      " [ 7  8  9 10 11 12]]\n",
      "[[ 1  2  3  4]\n",
      " [ 5  6  7  8]\n",
      " [ 9 10 11 12]]\n"
     ]
    }
   ],
   "source": [
    "print(a.reshape(2, 6))\n",
    "print(a.reshape(3, 4))"
   ]
  },
  {
   "cell_type": "code",
   "execution_count": 79,
   "id": "b13237ab-e7db-4b8f-8a96-7771411fbdc8",
   "metadata": {},
   "outputs": [
    {
     "name": "stdout",
     "output_type": "stream",
     "text": [
      "[1 2 3 4 5 6]\n"
     ]
    }
   ],
   "source": [
    "x = np.array([1, 2, 3])\n",
    "y = np.array([4, 5])\n",
    "z = np.array([6])\n",
    "\n",
    "print(np.concatenate([x, y, z]))"
   ]
  },
  {
   "cell_type": "code",
   "execution_count": 81,
   "id": "e89bbbac-97b6-4922-bac7-a8bbc4c74900",
   "metadata": {},
   "outputs": [
    {
     "name": "stdout",
     "output_type": "stream",
     "text": [
      "[[1 2 3]\n",
      " [4 5 6]]\n"
     ]
    }
   ],
   "source": [
    "x = np.array([1, 2, 3])\n",
    "y = np.array([4, 5, 6])\n",
    "\n",
    "r1 = np.vstack([x, y])\n",
    "print(r1)"
   ]
  },
  {
   "cell_type": "code",
   "execution_count": 83,
   "id": "a1521776-fb6b-4dc1-875f-acd97a9761e9",
   "metadata": {},
   "outputs": [
    {
     "name": "stdout",
     "output_type": "stream",
     "text": [
      "[1 2 3 4 5 6]\n"
     ]
    }
   ],
   "source": [
    "print(np.hstack([x, y]))"
   ]
  },
  {
   "cell_type": "code",
   "execution_count": 85,
   "id": "6ce27a24-ac8b-4892-99ca-f4a820c34ae2",
   "metadata": {},
   "outputs": [],
   "source": [
    "### Вычисления с массивами"
   ]
  },
  {
   "cell_type": "code",
   "execution_count": 87,
   "id": "16f57471-12f2-43af-8f28-a733c7e087cb",
   "metadata": {},
   "outputs": [],
   "source": [
    "# Векторизированная операция - независимо к каждому элементу"
   ]
  },
  {
   "cell_type": "code",
   "execution_count": 89,
   "id": "8469abe8-d6fd-4efa-97be-e1bfc8d509ee",
   "metadata": {},
   "outputs": [
    {
     "name": "stdout",
     "output_type": "stream",
     "text": [
      "[0 1 2 3 4 5 6 7 8 9]\n"
     ]
    }
   ],
   "source": [
    "x = np.arange(10)\n",
    "print(x)"
   ]
  },
  {
   "cell_type": "code",
   "execution_count": 91,
   "id": "c194ccc2-957d-40a4-ab76-e1a69c3450a2",
   "metadata": {},
   "outputs": [
    {
     "name": "stdout",
     "output_type": "stream",
     "text": [
      "[ 1  3  5  7  9 11 13 15 17 19]\n"
     ]
    }
   ],
   "source": [
    "print(x * 2 + 1)"
   ]
  },
  {
   "cell_type": "code",
   "execution_count": 93,
   "id": "c18fdcaf-e4ff-4f22-9123-69777fe82307",
   "metadata": {},
   "outputs": [],
   "source": [
    "# Универсальные функции "
   ]
  },
  {
   "cell_type": "code",
   "execution_count": 95,
   "id": "0aa83e7f-8c7a-4027-9177-0846ab6f1590",
   "metadata": {},
   "outputs": [
    {
     "name": "stdout",
     "output_type": "stream",
     "text": [
      "[ 1  3  5  7  9 11 13 15 17 19]\n"
     ]
    }
   ],
   "source": [
    "print(np.add(np.multiply(x, 2), 1))"
   ]
  },
  {
   "cell_type": "code",
   "execution_count": 97,
   "id": "2dc485ad-3058-45e8-bfde-db4de99d5be8",
   "metadata": {},
   "outputs": [],
   "source": [
    "# - - / // ** %\n",
    "## np.abs, sin/cos/tan, exp, log, sh/ch"
   ]
  },
  {
   "cell_type": "code",
   "execution_count": 99,
   "id": "c289310f-0aa1-42a4-832c-20551a609443",
   "metadata": {},
   "outputs": [
    {
     "name": "stdout",
     "output_type": "stream",
     "text": [
      "[ 0 10 20 30 40]\n"
     ]
    }
   ],
   "source": [
    "x = np.arange(5)\n",
    "print(np.multiply(x, 10))"
   ]
  },
  {
   "cell_type": "code",
   "execution_count": 101,
   "id": "631cfb66-9c39-4df9-b55e-09f819f5b790",
   "metadata": {},
   "outputs": [
    {
     "name": "stdout",
     "output_type": "stream",
     "text": [
      "[ 0. 10. 20. 30. 40.] [0.0e+000 4.9e-324 1.0e+001 1.5e-323 2.0e+001 2.5e-323 3.0e+001 3.5e-323\n",
      " 4.0e+001 4.4e-323]\n"
     ]
    }
   ],
   "source": [
    "y = np.empty(10)\n",
    "print(np.multiply(x, 10, out=y[::2]), y)"
   ]
  },
  {
   "cell_type": "code",
   "execution_count": 103,
   "id": "b3a88f20-f7c4-4ef1-96af-b758a45995a9",
   "metadata": {},
   "outputs": [
    {
     "name": "stdout",
     "output_type": "stream",
     "text": [
      "[1 2 3 4]\n",
      "10\n",
      "[ 1  3  6 10]\n"
     ]
    }
   ],
   "source": [
    "x = np.arange(1, 5)\n",
    "print(x)\n",
    "print(np.add.reduce(x))\n",
    "print(np.add.accumulate(x))"
   ]
  },
  {
   "cell_type": "code",
   "execution_count": 105,
   "id": "9693640f-84c0-4fdb-9f22-2dc9f1b5c024",
   "metadata": {},
   "outputs": [
    {
     "name": "stdout",
     "output_type": "stream",
     "text": [
      "[[ 2  3  4  5  6  7  8  9 10]\n",
      " [ 3  4  5  6  7  8  9 10 11]\n",
      " [ 4  5  6  7  8  9 10 11 12]\n",
      " [ 5  6  7  8  9 10 11 12 13]\n",
      " [ 6  7  8  9 10 11 12 13 14]\n",
      " [ 7  8  9 10 11 12 13 14 15]\n",
      " [ 8  9 10 11 12 13 14 15 16]\n",
      " [ 9 10 11 12 13 14 15 16 17]\n",
      " [10 11 12 13 14 15 16 17 18]]\n"
     ]
    }
   ],
   "source": [
    "x = np.arange(1, 10)\n",
    "print(np.add.outer(x, x))"
   ]
  },
  {
   "cell_type": "code",
   "execution_count": 107,
   "id": "fda42b6e-f723-4af8-8fb3-a1794f6d34b6",
   "metadata": {},
   "outputs": [
    {
     "name": "stdout",
     "output_type": "stream",
     "text": [
      "[[ 1  2  3  4  5  6  7  8  9]\n",
      " [ 2  4  6  8 10 12 14 16 18]\n",
      " [ 3  6  9 12 15 18 21 24 27]\n",
      " [ 4  8 12 16 20 24 28 32 36]\n",
      " [ 5 10 15 20 25 30 35 40 45]\n",
      " [ 6 12 18 24 30 36 42 48 54]\n",
      " [ 7 14 21 28 35 42 49 56 63]\n",
      " [ 8 16 24 32 40 48 56 64 72]\n",
      " [ 9 18 27 36 45 54 63 72 81]]\n"
     ]
    }
   ],
   "source": [
    "print(np.multiply.outer(x, x))"
   ]
  }
 ],
 "metadata": {
  "kernelspec": {
   "display_name": "Python 3 (ipykernel)",
   "language": "python",
   "name": "python3"
  },
  "language_info": {
   "codemirror_mode": {
    "name": "ipython",
    "version": 3
   },
   "file_extension": ".py",
   "mimetype": "text/x-python",
   "name": "python",
   "nbconvert_exporter": "python",
   "pygments_lexer": "ipython3",
   "version": "3.11.5"
  }
 },
 "nbformat": 4,
 "nbformat_minor": 5
}
