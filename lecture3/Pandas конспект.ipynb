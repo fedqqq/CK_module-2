{
 "cells": [
  {
   "cell_type": "markdown",
   "id": "2a001f51-cf70-48e4-8970-20fc2027bf31",
   "metadata": {},
   "source": [
    "# Pandas"
   ]
  },
  {
   "cell_type": "code",
   "execution_count": 4,
   "id": "f4e13294-583c-4490-9770-e99d18d31e11",
   "metadata": {},
   "outputs": [],
   "source": [
    "import numpy as np\n",
    "import pandas as pd"
   ]
  },
  {
   "cell_type": "markdown",
   "id": "578665f9-034b-4e08-ad24-b9e50d73b6e3",
   "metadata": {},
   "source": [
    "Pandas - расширение numpy (структурированные массивы). Строки и столбцы индексируются метками, а не только числовыми значениями\n",
    "\n",
    "Структуры: Series, DataFrame, Index\n",
    "#### Series"
   ]
  },
  {
   "cell_type": "code",
   "execution_count": 9,
   "id": "d11e0aa7-431c-4403-b6c0-c1758f53c78a",
   "metadata": {},
   "outputs": [
    {
     "name": "stdout",
     "output_type": "stream",
     "text": [
      "0    0.25\n",
      "1    0.50\n",
      "2    0.75\n",
      "3    1.00\n",
      "dtype: float64\n",
      "<class 'pandas.core.series.Series'>\n"
     ]
    }
   ],
   "source": [
    "data = pd.Series([0.25, 0.5, 0.75, 1.0])\n",
    "print(data)\n",
    "print(type(data))"
   ]
  },
  {
   "cell_type": "code",
   "execution_count": 13,
   "id": "7a21ee40-bb8d-4ec8-a372-3545911e1fce",
   "metadata": {},
   "outputs": [
    {
     "name": "stdout",
     "output_type": "stream",
     "text": [
      "[0.25 0.5  0.75 1.  ] <class 'numpy.ndarray'>\n",
      "RangeIndex(start=0, stop=4, step=1) <class 'pandas.core.indexes.range.RangeIndex'>\n"
     ]
    }
   ],
   "source": [
    "print(data.values, type(data.values))\n",
    "print(data.index, type(data.index))"
   ]
  },
  {
   "cell_type": "code",
   "execution_count": 17,
   "id": "4f0ec514-fa60-49ec-a63d-8e7be55960bb",
   "metadata": {},
   "outputs": [
    {
     "name": "stdout",
     "output_type": "stream",
     "text": [
      "0.25\n",
      "1    0.50\n",
      "2    0.75\n",
      "dtype: float64\n"
     ]
    }
   ],
   "source": [
    "data = pd.Series([0.25, 0.5, 0.75, 1.0])\n",
    "print(data[0])\n",
    "print(data[1:3])"
   ]
  },
  {
   "cell_type": "code",
   "execution_count": 23,
   "id": "57638c4e-7a1a-4593-b404-91241bb9e6ef",
   "metadata": {},
   "outputs": [
    {
     "name": "stdout",
     "output_type": "stream",
     "text": [
      "a    0.25\n",
      "b    0.50\n",
      "c    0.75\n",
      "d    1.00\n",
      "dtype: float64\n",
      "0.25\n",
      "b    0.50\n",
      "c    0.75\n",
      "d    1.00\n",
      "dtype: float64\n"
     ]
    }
   ],
   "source": [
    "data = pd.Series([0.25, 0.5, 0.75, 1.0], index=['a', 'b', 'c', 'd'])\n",
    "print(data)\n",
    "print(data['a'])\n",
    "print(data['b':'d'])"
   ]
  },
  {
   "cell_type": "code",
   "execution_count": 25,
   "id": "26db102a-f4fe-45ae-aebe-1c2ace18be12",
   "metadata": {},
   "outputs": [
    {
     "name": "stdout",
     "output_type": "stream",
     "text": [
      "<class 'pandas.core.indexes.base.Index'>\n"
     ]
    }
   ],
   "source": [
    "print(type(data.index))"
   ]
  },
  {
   "cell_type": "code",
   "execution_count": 27,
   "id": "d42760a4-f18b-4bc9-a806-c6b8b282c05a",
   "metadata": {},
   "outputs": [
    {
     "name": "stdout",
     "output_type": "stream",
     "text": [
      "1     0.25\n",
      "10    0.50\n",
      "7     0.75\n",
      "d     1.00\n",
      "dtype: float64\n",
      "0.25\n",
      "10    0.50\n",
      "7     0.75\n",
      "d     1.00\n",
      "dtype: float64\n"
     ]
    }
   ],
   "source": [
    "data = pd.Series([0.25, 0.5, 0.75, 1.0], index=[1, 10, 7, 'd']) #необязательно использовать \n",
    "                                                                #индексы одного типа\n",
    "print(data)\n",
    "print(data[1])\n",
    "print(data[10:'d'])"
   ]
  },
  {
   "cell_type": "code",
   "execution_count": 29,
   "id": "6531d296-adae-4302-b14b-acec1ea279dc",
   "metadata": {},
   "outputs": [
    {
     "name": "stdout",
     "output_type": "stream",
     "text": [
      "city 1    1001\n",
      "city 2    1002\n",
      "city 3    1003\n",
      "city 4    1004\n",
      "city 5    1005\n",
      "dtype: int64\n",
      "city 4    1004\n",
      "city 5    1005\n",
      "dtype: int64\n"
     ]
    }
   ],
   "source": [
    "population_dict = {\n",
    "    'city 1': 1001,\n",
    "    'city 2': 1002,\n",
    "    'city 3': 1003,\n",
    "    'city 4': 1004,\n",
    "    'city 5': 1005,\n",
    "}\n",
    "\n",
    "population = pd.Series(population_dict)\n",
    "print(population)\n",
    "print(population['city 4' : 'city 5'])"
   ]
  },
  {
   "cell_type": "markdown",
   "id": "d0315382-a56c-4250-b938-cad9203b54c6",
   "metadata": {},
   "source": [
    "Для создания Series можно использовать:\n",
    "1. Списки Python и массивы Numpy\n",
    "2. Скалярные значения\n",
    "3. Словари"
   ]
  },
  {
   "cell_type": "markdown",
   "id": "5c30eed7-c696-4d5f-a62b-5fcaa8afbdba",
   "metadata": {},
   "source": [
    "#### DataFrame \n",
    "Двумерный массив с явно определнными индексами. На него можно смотреть как на последовательность \"согласованных\" объектов Series"
   ]
  },
  {
   "cell_type": "code",
   "execution_count": 34,
   "id": "3f18dbf8-b8fd-44dd-8bf5-863c411015c7",
   "metadata": {},
   "outputs": [
    {
     "name": "stdout",
     "output_type": "stream",
     "text": [
      "city 1    1001\n",
      "city 2    1002\n",
      "city 3    1003\n",
      "city 4    1004\n",
      "city 5    1005\n",
      "dtype: int64\n",
      "city 1    9991\n",
      "city 2    9992\n",
      "city 3    9993\n",
      "city 4    9994\n",
      "city 5    9995\n",
      "dtype: int64\n"
     ]
    }
   ],
   "source": [
    "population_dict = {\n",
    "    'city 1': 1001,\n",
    "    'city 2': 1002,\n",
    "    'city 3': 1003,\n",
    "    'city 4': 1004,\n",
    "    'city 5': 1005,\n",
    "}\n",
    "\n",
    "area_dict = {\n",
    "    'city 1': 9991,\n",
    "    'city 2': 9992,\n",
    "    'city 3': 9993,\n",
    "    'city 4': 9994,\n",
    "    'city 5': 9995,\n",
    "}\n",
    "\n",
    "population = pd.Series(population_dict)\n",
    "area = pd.Series(area_dict)\n",
    "\n",
    "print(population)\n",
    "print(area)"
   ]
  },
  {
   "cell_type": "code",
   "execution_count": 36,
   "id": "2b7c9ac0-8cef-46d1-a740-b8aa96205f1a",
   "metadata": {},
   "outputs": [
    {
     "name": "stdout",
     "output_type": "stream",
     "text": [
      "        population  area\n",
      "city 1        1001  9991\n",
      "city 2        1002  9992\n",
      "city 3        1003  9993\n",
      "city 4        1004  9994\n",
      "city 5        1005  9995\n"
     ]
    }
   ],
   "source": [
    "states = pd.DataFrame({\n",
    "    'population': population,\n",
    "    'area': area\n",
    "})\n",
    "print(states)"
   ]
  },
  {
   "cell_type": "code",
   "execution_count": 38,
   "id": "e7002209-7221-49f5-b8c1-02b4bacfdd99",
   "metadata": {},
   "outputs": [
    {
     "name": "stdout",
     "output_type": "stream",
     "text": [
      "[[1001 9991]\n",
      " [1002 9992]\n",
      " [1003 9993]\n",
      " [1004 9994]\n",
      " [1005 9995]]\n",
      "Index(['city 1', 'city 2', 'city 3', 'city 4', 'city 5'], dtype='object')\n",
      "Index(['population', 'area'], dtype='object')\n"
     ]
    }
   ],
   "source": [
    "print(states.values)\n",
    "print(states.index)\n",
    "print(states.columns)"
   ]
  },
  {
   "cell_type": "code",
   "execution_count": 40,
   "id": "aaecbd05-3c2c-4e18-acf2-9391d0d00eb2",
   "metadata": {},
   "outputs": [
    {
     "name": "stdout",
     "output_type": "stream",
     "text": [
      "<class 'numpy.ndarray'>\n",
      "<class 'pandas.core.indexes.base.Index'>\n",
      "<class 'pandas.core.indexes.base.Index'>\n"
     ]
    }
   ],
   "source": [
    "print(type(states.values))\n",
    "print(type(states.index))\n",
    "print(type(states.columns))"
   ]
  },
  {
   "cell_type": "code",
   "execution_count": 44,
   "id": "c38cef49-5e16-4557-861a-5112ece4f91b",
   "metadata": {},
   "outputs": [
    {
     "name": "stdout",
     "output_type": "stream",
     "text": [
      "city 1    9991\n",
      "city 2    9992\n",
      "city 3    9993\n",
      "city 4    9994\n",
      "city 5    9995\n",
      "Name: area, dtype: int64\n"
     ]
    }
   ],
   "source": [
    "print(states['area'])"
   ]
  },
  {
   "cell_type": "markdown",
   "id": "56dacfcb-8713-401d-90c8-b9de762c4f0c",
   "metadata": {},
   "source": [
    "DataFrame - способы создания:\n",
    "1. Через объекты Series\n",
    "2. Списки словарей\n",
    "3. Словари объектов Series\n",
    "4. Структурированный массив Numpy\n",
    "5. Двумерный массив Numpy"
   ]
  },
  {
   "cell_type": "markdown",
   "id": "50e89bef-867c-4265-9d2c-b8985d467acb",
   "metadata": {},
   "source": [
    "#### Index\n",
    "Способ организации ссылки на данные объектов Series и DataFrame. Index - неизменяем, упорядочен, является мультимножеством (могут быть повторяющиеся значения)"
   ]
  },
  {
   "cell_type": "code",
   "execution_count": 52,
   "id": "e9ea246b-bc4b-4446-a6ce-bab41f7700ae",
   "metadata": {},
   "outputs": [
    {
     "name": "stdout",
     "output_type": "stream",
     "text": [
      "3\n",
      "Index([2, 5, 11], dtype='int64')\n"
     ]
    }
   ],
   "source": [
    "ind = pd.Index([2, 3, 5, 7, 11])\n",
    "print(ind[1])\n",
    "print(ind[::2])"
   ]
  },
  {
   "cell_type": "markdown",
   "id": "45bc4a50-36f0-4c86-ba35-f76f03411d49",
   "metadata": {},
   "source": [
    "Index следует соглашениям объекта set() в python"
   ]
  },
  {
   "cell_type": "code",
   "execution_count": 57,
   "id": "c9576c2b-c1c8-4b47-9dc8-41e8d2628513",
   "metadata": {},
   "outputs": [
    {
     "name": "stdout",
     "output_type": "stream",
     "text": [
      "Index([2, 3, 4, 5], dtype='int64')\n"
     ]
    }
   ],
   "source": [
    "indA = pd.Index([1, 2, 3, 4, 5])\n",
    "indB = pd.Index([2, 3, 4, 5, 6])\n",
    "print(indA.intersection(indB))"
   ]
  },
  {
   "cell_type": "markdown",
   "id": "bebd17ce-8241-4aad-b1b4-8856b9633b8e",
   "metadata": {},
   "source": [
    "#### Выборка данных\n",
    "##### Из series"
   ]
  },
  {
   "cell_type": "code",
   "execution_count": null,
   "id": "5472ac79-8154-4935-83c1-7d319cb80b4a",
   "metadata": {},
   "outputs": [],
   "source": []
  },
  {
   "cell_type": "code",
   "execution_count": 66,
   "id": "094f9ffa-339f-4968-bb2e-b98b27254021",
   "metadata": {},
   "outputs": [
    {
     "name": "stdout",
     "output_type": "stream",
     "text": [
      "True\n",
      "False\n",
      "Index(['a', 'b', 'c', 'd'], dtype='object')\n",
      "[('a', 0.25), ('b', 0.5), ('c', 0.75), ('d', 1.0)]\n"
     ]
    }
   ],
   "source": [
    "data = pd.Series([0.25, 0.5, 0.75, 1.0], index=['a', 'b', 'c', 'd'])\n",
    "print('a' in data)\n",
    "print('z' in data)\n",
    "print(data.keys())\n",
    "print(list(data.items()))"
   ]
  },
  {
   "cell_type": "code",
   "execution_count": 68,
   "id": "ff54f836-f39d-4161-ba40-b3d0295331bc",
   "metadata": {},
   "outputs": [
    {
     "name": "stdout",
     "output_type": "stream",
     "text": [
      "a     100.00\n",
      "b       0.50\n",
      "c       0.75\n",
      "d       1.00\n",
      "z    1000.00\n",
      "dtype: float64\n"
     ]
    }
   ],
   "source": [
    "data['a'] = 100\n",
    "data['z'] = 1000\n",
    "print(data)"
   ]
  },
  {
   "cell_type": "markdown",
   "id": "845687bc-6516-4d2e-a4df-4a5adb1fd82c",
   "metadata": {},
   "source": [
    "На Series можно смотреть как на словарь и как на одномерный массив"
   ]
  },
  {
   "cell_type": "code",
   "execution_count": 79,
   "id": "2b9b3ee1-cc7c-4ede-a998-8b35aca70a40",
   "metadata": {},
   "outputs": [
    {
     "name": "stdout",
     "output_type": "stream",
     "text": [
      "a    0.25\n",
      "b    0.50\n",
      "c    0.75\n",
      "dtype: float64\n",
      "a    0.25\n",
      "b    0.50\n",
      "dtype: float64\n",
      "c    0.75\n",
      "dtype: float64\n",
      "a    0.25\n",
      "d    1.00\n",
      "dtype: float64\n"
     ]
    }
   ],
   "source": [
    "data = pd.Series([0.25, 0.5, 0.75, 1.0], index=['a', 'b', 'c', 'd'])\n",
    "print(data['a':'c'])\n",
    "print(data[0:2])\n",
    "print(data[(data > 0.5) & (data < 1)])\n",
    "print(data[['a', 'd']])"
   ]
  },
  {
   "cell_type": "code",
   "execution_count": 83,
   "id": "54c56961-2816-4b9c-acd0-74210b8f4e07",
   "metadata": {},
   "outputs": [
    {
     "name": "stdout",
     "output_type": "stream",
     "text": [
      "0.25\n",
      "0.25\n",
      "0.5\n"
     ]
    }
   ],
   "source": [
    "data = pd.Series([0.25, 0.5, 0.75, 1.0], index=[1, 3, 10, 15])\n",
    "print(data[1])\n",
    "#атрибуты-индексаторы\n",
    "print(data.loc[1])\n",
    "print(data.iloc[1])"
   ]
  },
  {
   "cell_type": "code",
   "execution_count": null,
   "id": "c75792d7-4ee1-4410-b250-58f96caef015",
   "metadata": {},
   "outputs": [],
   "source": []
  },
  {
   "cell_type": "code",
   "execution_count": 104,
   "id": "aec2732b-e9d9-41e4-8ea0-7eef00666da6",
   "metadata": {},
   "outputs": [
    {
     "name": "stdout",
     "output_type": "stream",
     "text": [
      "        population  area\n",
      "city 1        1001  9991\n",
      "city 2        1002  9992\n",
      "city 3        1003  9993\n",
      "city 4        1004  9994\n",
      "city 5        1005  9995\n"
     ]
    }
   ],
   "source": [
    "population_dict = {\n",
    "    'city 1': 1001,\n",
    "    'city 2': 1002,\n",
    "    'city 3': 1003,\n",
    "    'city 4': 1004,\n",
    "    'city 5': 1005,\n",
    "}\n",
    "\n",
    "area_dict = {\n",
    "    'city 1': 9991,\n",
    "    'city 2': 9992,\n",
    "    'city 3': 9993,\n",
    "    'city 4': 9994,\n",
    "    'city 5': 9995,\n",
    "}\n",
    "\n",
    "population = pd.Series(population_dict)\n",
    "area = pd.Series(area_dict)\n",
    "\n",
    "data = pd.DataFrame({\n",
    "    'population': population,\n",
    "    'area': area\n",
    "})\n",
    "print(data)"
   ]
  },
  {
   "cell_type": "markdown",
   "id": "3125785a-2f0d-42f5-8e8d-8c25f2da837e",
   "metadata": {},
   "source": [
    "##### Из DataFrame"
   ]
  },
  {
   "cell_type": "code",
   "execution_count": 96,
   "id": "05a068b4-627c-48c3-9f9e-09680741a240",
   "metadata": {},
   "outputs": [
    {
     "name": "stdout",
     "output_type": "stream",
     "text": [
      "city 1    9991\n",
      "city 2    9992\n",
      "city 3    9993\n",
      "city 4    9994\n",
      "city 5    9995\n",
      "Name: area, dtype: int64\n",
      "city 1    9991\n",
      "city 2    9992\n",
      "city 3    9993\n",
      "city 4    9994\n",
      "city 5    9995\n",
      "Name: area, dtype: int64\n"
     ]
    }
   ],
   "source": [
    "print(data['area'])\n",
    "print(data.area)"
   ]
  },
  {
   "cell_type": "code",
   "execution_count": 102,
   "id": "eb1f2b20-5a7e-4e94-b70c-c109b32d77fc",
   "metadata": {},
   "outputs": [
    {
     "name": "stdout",
     "output_type": "stream",
     "text": [
      "        population  area       new\n",
      "city 1        1001  9991  9.981019\n",
      "city 2        1002  9992  9.972056\n",
      "city 3        1003  9993  9.963111\n",
      "city 4        1004  9994  9.954183\n",
      "city 5        1005  9995  9.945274\n"
     ]
    }
   ],
   "source": [
    "data['new'] = data['area'] / data['population']\n",
    "print(data)"
   ]
  },
  {
   "cell_type": "code",
   "execution_count": 108,
   "id": "55e29311-ed64-4f7a-a778-e2c0fd1444bc",
   "metadata": {},
   "outputs": [
    {
     "name": "stdout",
     "output_type": "stream",
     "text": [
      "        population  area\n",
      "city 1        1001  9991\n",
      "city 2        1002  9992\n",
      "city 3        1003  9993\n",
      "city 4        1004  9994\n",
      "city 5        1005  9995\n",
      "[[1001 9991]\n",
      " [1002 9992]\n",
      " [1003 9993]\n",
      " [1004 9994]\n",
      " [1005 9995]]\n",
      "            city 1  city 2  city 3  city 4  city 5\n",
      "population    1001    1002    1003    1004    1005\n",
      "area          9991    9992    9993    9994    9995\n",
      "city 1    9991\n",
      "city 2    9992\n",
      "city 3    9993\n",
      "city 4    9994\n",
      "city 5    9995\n",
      "Name: area, dtype: int64\n",
      "[[1001 9991]\n",
      " [1002 9992]\n",
      " [1003 9993]]\n"
     ]
    }
   ],
   "source": [
    "population = pd.Series(population_dict)\n",
    "area = pd.Series(area_dict)\n",
    "\n",
    "data = pd.DataFrame({\n",
    "    'population': population,\n",
    "    'area': area\n",
    "})\n",
    "print(data)\n",
    "print(data.values)\n",
    "print(data.T)\n",
    "print(data['area'])\n",
    "print(data.values[0:3])"
   ]
  },
  {
   "cell_type": "code",
   "execution_count": 124,
   "id": "8ae84a4f-a69e-4601-b04e-b88c19dd5fc8",
   "metadata": {},
   "outputs": [
    {
     "name": "stdout",
     "output_type": "stream",
     "text": [
      "        population  area   pop\n",
      "city 1        1001  9991  1001\n",
      "city 2        1002  9992  1002\n",
      "city 3        1003  9993  1003\n",
      "city 4        1004  9994  1004\n",
      "city 5        1005  9995  1005\n",
      "        area\n",
      "city 1  9991\n",
      "city 2  9992\n",
      "city 3  9993\n",
      "area    9991\n",
      "pop     1001\n",
      "Name: city 1, dtype: int64\n",
      "        area   pop\n",
      "city 3  9993  1003\n",
      "city 4  9994  1004\n",
      "city 5  9995  1005\n",
      "        population  area     pop\n",
      "city 1        1001  9991  999999\n",
      "city 2        1002  9992    1002\n",
      "city 3        1003  9993    1003\n",
      "city 4        1004  9994    1004\n",
      "city 5        1005  9995    1005\n"
     ]
    }
   ],
   "source": [
    "#атрибуты-индексаторы\n",
    "data['pop'] = data['population']\n",
    "print(data)\n",
    "print(data.iloc[:3, 1:2])\n",
    "print(data.loc['city 1', 'area':'pop'])\n",
    "print(data.loc[data['pop'] > 1002, ['area', 'pop']])\n",
    "\n",
    "data.iloc[0, 2] = 999999\n",
    "print(data)"
   ]
  },
  {
   "cell_type": "code",
   "execution_count": 132,
   "id": "b787150a-9e7a-4166-8d46-2bc8ef48ecea",
   "metadata": {},
   "outputs": [
    {
     "name": "stdout",
     "output_type": "stream",
     "text": [
      "0    5\n",
      "1    1\n",
      "2    3\n",
      "3    2\n",
      "dtype: int64\n"
     ]
    }
   ],
   "source": [
    "rng = np.random.default_rng()\n",
    "s = pd.Series(rng.integers(0, 10, 4))\n",
    "print(s)"
   ]
  },
  {
   "cell_type": "code",
   "execution_count": 134,
   "id": "fbd268e6-b66a-40d8-922b-8f6437f8d31e",
   "metadata": {},
   "outputs": [
    {
     "name": "stdout",
     "output_type": "stream",
     "text": [
      "0    148.413159\n",
      "1      2.718282\n",
      "2     20.085537\n",
      "3      7.389056\n",
      "dtype: float64\n"
     ]
    }
   ],
   "source": [
    "print(np.exp(s))"
   ]
  },
  {
   "cell_type": "code",
   "execution_count": 140,
   "id": "3596e362-f547-4796-90c5-ef8530349fb9",
   "metadata": {},
   "outputs": [
    {
     "name": "stdout",
     "output_type": "stream",
     "text": [
      "         population    area\n",
      "city 1       1001.0  9991.0\n",
      "city 2       1002.0  9992.0\n",
      "city 3       1003.0  9993.0\n",
      "city 41      1004.0     NaN\n",
      "city 42         NaN  9994.0\n",
      "city 51      1005.0     NaN\n",
      "city 52         NaN  9995.0\n"
     ]
    }
   ],
   "source": [
    "population_dict = {\n",
    "    'city 1': 1001,\n",
    "    'city 2': 1002,\n",
    "    'city 3': 1003,\n",
    "    'city 41': 1004,\n",
    "    'city 51': 1005,\n",
    "}\n",
    "\n",
    "area_dict = {\n",
    "    'city 1': 9991,\n",
    "    'city 2': 9992,\n",
    "    'city 3': 9993,\n",
    "    'city 42': 9994,\n",
    "    'city 52': 9995,\n",
    "}\n",
    "\n",
    "population = pd.Series(population_dict)\n",
    "area = pd.Series(area_dict)\n",
    "\n",
    "data = pd.DataFrame({\n",
    "    'population': population,\n",
    "    'area': area\n",
    "})\n",
    "\n",
    "print(data) #объединение индексов, NaN = not a number"
   ]
  },
  {
   "cell_type": "code",
   "execution_count": 146,
   "id": "2f78e05e-791e-442c-8060-180360fa212d",
   "metadata": {},
   "outputs": [
    {
     "name": "stdout",
     "output_type": "stream",
     "text": [
      "   a  b\n",
      "0  2  8\n",
      "1  6  6\n",
      "   a  b  c\n",
      "0  4  4  1\n",
      "1  5  1  3\n",
      "2  0  4  5\n",
      "      a     b   c\n",
      "0   6.0  12.0 NaN\n",
      "1  11.0   7.0 NaN\n",
      "2   NaN   NaN NaN\n"
     ]
    }
   ],
   "source": [
    "dfA = pd.DataFrame(rng.integers(0, 10, (2, 2)), columns=['a', 'b'])\n",
    "dfB = pd.DataFrame(rng.integers(0, 10, (3, 3)), columns=['a', 'b', 'c'])\n",
    "print(dfA)\n",
    "print(dfB)\n",
    "print(dfA + dfB)"
   ]
  },
  {
   "cell_type": "code",
   "execution_count": 152,
   "id": "26cc37f1-6e2e-4d4f-8ea0-ffc8d6d54c31",
   "metadata": {},
   "outputs": [
    {
     "name": "stdout",
     "output_type": "stream",
     "text": [
      "[[4 5 7 9]\n",
      " [0 1 8 9]\n",
      " [2 3 8 4]]\n",
      "[4 5 7 9]\n",
      "[[ 0  0  0  0]\n",
      " [-4 -4  1  0]\n",
      " [-2 -2  1 -5]]\n"
     ]
    }
   ],
   "source": [
    "rng = np.random.default_rng(1)\n",
    "A =rng.integers(0, 10, (3, 4))\n",
    "print(A)\n",
    "print(A[0])\n",
    "print(A - A[0]) #транслирование"
   ]
  },
  {
   "cell_type": "code",
   "execution_count": 154,
   "id": "24f55a15-d6f8-4391-92c1-9e25e37be3c4",
   "metadata": {},
   "outputs": [
    {
     "name": "stdout",
     "output_type": "stream",
     "text": [
      "   a  b  c  d\n",
      "0  4  5  7  9\n",
      "1  0  1  8  9\n",
      "2  2  3  8  4\n",
      "a    4\n",
      "b    5\n",
      "c    7\n",
      "d    9\n",
      "Name: 0, dtype: int64\n",
      "   a  b  c  d\n",
      "0  0  0  0  0\n",
      "1 -4 -4  1  0\n",
      "2 -2 -2  1 -5\n"
     ]
    }
   ],
   "source": [
    "df = pd.DataFrame(A, columns=['a', 'b', 'c', 'd'])\n",
    "print(df)\n",
    "print(df.iloc[0])\n",
    "print(df - df.iloc[0])"
   ]
  },
  {
   "cell_type": "code",
   "execution_count": 156,
   "id": "e84f000a-98f2-42ad-bc7f-bc8a06422a32",
   "metadata": {},
   "outputs": [
    {
     "name": "stdout",
     "output_type": "stream",
     "text": [
      "a    4\n",
      "c    7\n",
      "Name: 0, dtype: int64\n",
      "     a   b    c   d\n",
      "0  0.0 NaN  0.0 NaN\n",
      "1 -4.0 NaN  1.0 NaN\n",
      "2 -2.0 NaN  1.0 NaN\n"
     ]
    }
   ],
   "source": [
    "print(df.iloc[0, ::2])\n",
    "print(df - df.iloc[0, ::2])"
   ]
  },
  {
   "cell_type": "markdown",
   "id": "8b9a8865-223c-4440-8358-4860afe01947",
   "metadata": {},
   "source": [
    "#### NA - значения\n",
    "NaN, null\n",
    "\n",
    "Два способа хранения отсутствующих значений:\n",
    "1. Индикаторы Nan, None\n",
    "2. null\n",
    "\n",
    "None - объект(накладные расходы). Не работает с sum, min"
   ]
  },
  {
   "cell_type": "code",
   "execution_count": 162,
   "id": "04883859-ef5c-4912-852d-55df472e5b63",
   "metadata": {},
   "outputs": [
    {
     "ename": "TypeError",
     "evalue": "unsupported operand type(s) for +: 'int' and 'NoneType'",
     "output_type": "error",
     "traceback": [
      "\u001b[0;31m---------------------------------------------------------------------------\u001b[0m",
      "\u001b[0;31mTypeError\u001b[0m                                 Traceback (most recent call last)",
      "Cell \u001b[0;32mIn[162], line 2\u001b[0m\n\u001b[1;32m      1\u001b[0m val1 \u001b[38;5;241m=\u001b[39m np\u001b[38;5;241m.\u001b[39marray([\u001b[38;5;241m1\u001b[39m, \u001b[38;5;241m2\u001b[39m, \u001b[38;5;28;01mNone\u001b[39;00m, \u001b[38;5;241m3\u001b[39m])\n\u001b[0;32m----> 2\u001b[0m \u001b[38;5;28mprint\u001b[39m(np\u001b[38;5;241m.\u001b[39msum(val1))\n",
      "File \u001b[0;32m<__array_function__ internals>:200\u001b[0m, in \u001b[0;36msum\u001b[0;34m(*args, **kwargs)\u001b[0m\n",
      "File \u001b[0;32m~/anaconda3/lib/python3.11/site-packages/numpy/core/fromnumeric.py:2324\u001b[0m, in \u001b[0;36msum\u001b[0;34m(a, axis, dtype, out, keepdims, initial, where)\u001b[0m\n\u001b[1;32m   2321\u001b[0m         \u001b[38;5;28;01mreturn\u001b[39;00m out\n\u001b[1;32m   2322\u001b[0m     \u001b[38;5;28;01mreturn\u001b[39;00m res\n\u001b[0;32m-> 2324\u001b[0m \u001b[38;5;28;01mreturn\u001b[39;00m _wrapreduction(a, np\u001b[38;5;241m.\u001b[39madd, \u001b[38;5;124m'\u001b[39m\u001b[38;5;124msum\u001b[39m\u001b[38;5;124m'\u001b[39m, axis, dtype, out, keepdims\u001b[38;5;241m=\u001b[39mkeepdims,\n\u001b[1;32m   2325\u001b[0m                       initial\u001b[38;5;241m=\u001b[39minitial, where\u001b[38;5;241m=\u001b[39mwhere)\n",
      "File \u001b[0;32m~/anaconda3/lib/python3.11/site-packages/numpy/core/fromnumeric.py:86\u001b[0m, in \u001b[0;36m_wrapreduction\u001b[0;34m(obj, ufunc, method, axis, dtype, out, **kwargs)\u001b[0m\n\u001b[1;32m     83\u001b[0m         \u001b[38;5;28;01melse\u001b[39;00m:\n\u001b[1;32m     84\u001b[0m             \u001b[38;5;28;01mreturn\u001b[39;00m reduction(axis\u001b[38;5;241m=\u001b[39maxis, out\u001b[38;5;241m=\u001b[39mout, \u001b[38;5;241m*\u001b[39m\u001b[38;5;241m*\u001b[39mpasskwargs)\n\u001b[0;32m---> 86\u001b[0m \u001b[38;5;28;01mreturn\u001b[39;00m ufunc\u001b[38;5;241m.\u001b[39mreduce(obj, axis, dtype, out, \u001b[38;5;241m*\u001b[39m\u001b[38;5;241m*\u001b[39mpasskwargs)\n",
      "\u001b[0;31mTypeError\u001b[0m: unsupported operand type(s) for +: 'int' and 'NoneType'"
     ]
    }
   ],
   "source": [
    "val1 = np.array([1, 2, None, 3])\n",
    "print(np.sum(val1))"
   ]
  },
  {
   "cell_type": "code",
   "execution_count": 168,
   "id": "37fa6118-ec9f-448b-ae13-50957dd77de4",
   "metadata": {},
   "outputs": [
    {
     "name": "stdout",
     "output_type": "stream",
     "text": [
      "nan\n",
      "6.0\n"
     ]
    }
   ],
   "source": [
    "val1 = np.array([1, 2, np.nan, 3])\n",
    "print(np.sum(val1))\n",
    "print(np.nansum(val1))"
   ]
  },
  {
   "cell_type": "code",
   "execution_count": 170,
   "id": "313e9a3c-89da-4f8a-93e1-0402c7611649",
   "metadata": {},
   "outputs": [
    {
     "name": "stdout",
     "output_type": "stream",
     "text": [
      "0    0\n",
      "1    1\n",
      "2    2\n",
      "3    3\n",
      "4    4\n",
      "5    5\n",
      "6    6\n",
      "7    7\n",
      "8    8\n",
      "9    9\n",
      "dtype: int64\n",
      "0    NaN\n",
      "1    NaN\n",
      "2    2.0\n",
      "3    3.0\n",
      "4    4.0\n",
      "5    5.0\n",
      "6    6.0\n",
      "7    7.0\n",
      "8    8.0\n",
      "9    9.0\n",
      "dtype: float64\n"
     ]
    }
   ],
   "source": [
    "x = pd.Series(range(10), dtype=int)\n",
    "print(x)\n",
    "x[0] = None\n",
    "x[1] = np.nan\n",
    "\n",
    "print(x)"
   ]
  },
  {
   "cell_type": "code",
   "execution_count": 172,
   "id": "d116f4aa-5229-4e64-974a-f43ec5552dae",
   "metadata": {},
   "outputs": [
    {
     "name": "stdout",
     "output_type": "stream",
     "text": [
      "0    None\n",
      "1     NaN\n",
      "2       c\n",
      "dtype: object\n"
     ]
    }
   ],
   "source": [
    "x1 = pd.Series(['a', 'b', 'c'])\n",
    "x1[0] = None\n",
    "x1[1] = np.nan\n",
    "print(x1)"
   ]
  },
  {
   "cell_type": "code",
   "execution_count": 178,
   "id": "cc6f040f-d84e-4087-9974-9446e5f1cb25",
   "metadata": {},
   "outputs": [
    {
     "name": "stdout",
     "output_type": "stream",
     "text": [
      "0       1\n",
      "1       2\n",
      "2       3\n",
      "3    <NA>\n",
      "4    <NA>\n",
      "5    <NA>\n",
      "dtype: Int32\n"
     ]
    }
   ],
   "source": [
    "x2 = pd.Series([1, 2, 3, np.nan, None, pd.NA], dtype='Int32')\n",
    "print(x2)"
   ]
  },
  {
   "cell_type": "code",
   "execution_count": 182,
   "id": "ee13eb6c-0c14-46ea-af33-16c048216317",
   "metadata": {},
   "outputs": [
    {
     "name": "stdout",
     "output_type": "stream",
     "text": [
      "0    1\n",
      "1    2\n",
      "2    3\n",
      "dtype: Int32\n"
     ]
    }
   ],
   "source": [
    "print(x2[x2.notnull()])"
   ]
  },
  {
   "cell_type": "code",
   "execution_count": 188,
   "id": "b9ef33f6-8c23-4c22-9b87-1eab1e13f11e",
   "metadata": {},
   "outputs": [
    {
     "name": "stdout",
     "output_type": "stream",
     "text": [
      "0    1\n",
      "1    2\n",
      "2    3\n",
      "dtype: Int32\n"
     ]
    }
   ],
   "source": [
    "print(x2.dropna())"
   ]
  },
  {
   "cell_type": "code",
   "execution_count": 196,
   "id": "c8c3ac0d-d05e-4f7b-9b5d-c870ac635a17",
   "metadata": {},
   "outputs": [
    {
     "name": "stdout",
     "output_type": "stream",
     "text": [
      "   0    1  2    3    4     5\n",
      "0  1  2.0  3  NaN  NaN  <NA>\n",
      "1  1  2.0  3  4.0  5.0     6\n",
      "2  1  NaN  3  4.0  NaN     6\n",
      "   0    1  2    3    4  5\n",
      "1  1  2.0  3  4.0  5.0  6\n",
      "   0    1  2    3    4  5\n",
      "1  1  2.0  3  4.0  5.0  6\n",
      "   0  2\n",
      "0  1  3\n",
      "1  1  3\n",
      "2  1  3\n"
     ]
    }
   ],
   "source": [
    "df = pd.DataFrame(\n",
    "    [\n",
    "        [1, 2, 3, np.nan, None, pd.NA],\n",
    "        [1, 2, 3, 4, 5, 6],\n",
    "        [1, np.nan, 3, 4, np.nan, 6]\n",
    "    ]\n",
    ")\n",
    "print(df)\n",
    "print(df.dropna())\n",
    "print(df.dropna(axis=0))\n",
    "print(df.dropna(axis=1))"
   ]
  },
  {
   "cell_type": "code",
   "execution_count": 204,
   "id": "e108cc3a-1f83-4312-a8fb-c25247b9ed88",
   "metadata": {},
   "outputs": [
    {
     "name": "stdout",
     "output_type": "stream",
     "text": [
      "   0    1  2    3    4     5\n",
      "0  1  2.0  3  NaN  NaN  <NA>\n",
      "1  1  2.0  3  4.0  5.0     6\n",
      "2  1  NaN  3  4.0  NaN     6\n",
      "   0    1  2    3    4  5\n",
      "1  1  2.0  3  4.0  5.0  6\n",
      "   0    1  2    3    4     5\n",
      "0  1  2.0  3  NaN  NaN  <NA>\n",
      "1  1  2.0  3  4.0  5.0     6\n",
      "2  1  NaN  3  4.0  NaN     6\n"
     ]
    }
   ],
   "source": [
    "print(df.dropna(axis=0, how='all')) #все значения NA\n",
    "print(df.dropna(axis=0, how='any')) #хотя бы одно\n",
    "print(df.dropna(axis=0, thresh=2)) #минимум x"
   ]
  },
  {
   "cell_type": "code",
   "execution_count": null,
   "id": "dd01bd28-9d35-4b1b-bfc0-339f9e47c776",
   "metadata": {},
   "outputs": [],
   "source": []
  }
 ],
 "metadata": {
  "kernelspec": {
   "display_name": "Python 3 (ipykernel)",
   "language": "python",
   "name": "python3"
  },
  "language_info": {
   "codemirror_mode": {
    "name": "ipython",
    "version": 3
   },
   "file_extension": ".py",
   "mimetype": "text/x-python",
   "name": "python",
   "nbconvert_exporter": "python",
   "pygments_lexer": "ipython3",
   "version": "3.11.5"
  }
 },
 "nbformat": 4,
 "nbformat_minor": 5
}
