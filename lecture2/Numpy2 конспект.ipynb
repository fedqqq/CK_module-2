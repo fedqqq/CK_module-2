{
 "cells": [
  {
   "cell_type": "markdown",
   "id": "5c2ac730-bcf1-40ed-a6a5-2eaeae7fe028",
   "metadata": {},
   "source": [
    "## Numpy продолжение"
   ]
  },
  {
   "cell_type": "code",
   "execution_count": 5,
   "id": "1bde9499-bfdb-465f-81e1-cdd3af31e602",
   "metadata": {},
   "outputs": [],
   "source": [
    "import numpy as np"
   ]
  },
  {
   "cell_type": "markdown",
   "id": "ff685876-a8f8-4d7f-9cdf-98bf6a85daf0",
   "metadata": {},
   "source": [
    "#### Суммирование значений"
   ]
  },
  {
   "cell_type": "code",
   "execution_count": 7,
   "id": "a0d5d058-ece4-4c02-be19-f0eef7f920fd",
   "metadata": {},
   "outputs": [
    {
     "name": "stdout",
     "output_type": "stream",
     "text": [
      "[0.51182162 0.9504637  0.14415961 0.94864945 0.31183145 0.42332645\n",
      " 0.82770259 0.40919914 0.54959369 0.02755911 0.75351311 0.53814331\n",
      " 0.32973172 0.7884287  0.30319483 0.45349789 0.1340417  0.40311299\n",
      " 0.20345524 0.26231334 0.75036467 0.28040876 0.48519097 0.9807372\n",
      " 0.96165719 0.72478994 0.54122686 0.2768912  0.16065201 0.96992541\n",
      " 0.51606859 0.11586561 0.62348976 0.77668311 0.6130033  0.9172977\n",
      " 0.03959288 0.52858926 0.45933588 0.06234958 0.64132817 0.85263284\n",
      " 0.59294102 0.26009745 0.83988152 0.50949588 0.51088888 0.75303021\n",
      " 0.14792204 0.81962672]\n"
     ]
    }
   ],
   "source": [
    "rng = np.random.default_rng(1)\n",
    "s = rng.random(50)\n",
    "\n",
    "print(s)"
   ]
  },
  {
   "cell_type": "code",
   "execution_count": 9,
   "id": "b01cceed-6056-4dd9-974c-ebe7c342eade",
   "metadata": {},
   "outputs": [
    {
     "name": "stdout",
     "output_type": "stream",
     "text": [
      "25.985704258037675 25.98570425803768\n"
     ]
    }
   ],
   "source": [
    "print(sum(s), np.sum(s))"
   ]
  },
  {
   "cell_type": "code",
   "execution_count": 15,
   "id": "a609406a-e31a-435c-b46b-40656f25f632",
   "metadata": {},
   "outputs": [
    {
     "name": "stdout",
     "output_type": "stream",
     "text": [
      "55\n",
      "[ 7  9 11 13 15]\n",
      "[15 40]\n"
     ]
    }
   ],
   "source": [
    "#нампи может считать сумму многомерных массивов\n",
    "a = np.array([\n",
    "    [1, 2, 3, 4, 5],\n",
    "    [6, 7, 8, 9, 10]\n",
    "])\n",
    "print(np.sum(a))\n",
    "print(np.sum(a, axis=0)) #0 - столбцы, 1 - строки\n",
    "print(np.sum(a, axis=1))"
   ]
  },
  {
   "cell_type": "code",
   "execution_count": 17,
   "id": "2664b1f3-5f24-48a7-a122-563715abb465",
   "metadata": {},
   "outputs": [
    {
     "name": "stdout",
     "output_type": "stream",
     "text": [
      "1\n",
      "[1 2 3 4 5]\n",
      "[1 6]\n",
      "10\n",
      "[ 6  7  8  9 10]\n",
      "[ 5 10]\n"
     ]
    }
   ],
   "source": [
    "print(np.min(a))\n",
    "print(np.min(a, axis=0)) \n",
    "print(np.min(a, axis=1))\n",
    "\n",
    "print(np.max(a))\n",
    "print(np.max(a, axis=0)) \n",
    "print(np.max(a, axis=1))"
   ]
  },
  {
   "cell_type": "code",
   "execution_count": 19,
   "id": "2f99a4e4-8be9-4156-bdf5-e0eaefb93e9c",
   "metadata": {},
   "outputs": [
    {
     "name": "stdout",
     "output_type": "stream",
     "text": [
      "1\n",
      "[1 2 3 4 5]\n",
      "[1 6]\n"
     ]
    }
   ],
   "source": [
    "#если нужно использовать агрегирующие ф-ии на массивах с NaN:\n",
    "print(np.nanmin(a))\n",
    "print(np.nanmin(a, axis=0)) \n",
    "print(np.nanmin(a, axis=1))"
   ]
  },
  {
   "cell_type": "markdown",
   "id": "c0da96e6-8abe-4ab2-8665-1697dc61507b",
   "metadata": {},
   "source": [
    "#### Транслирование (broadcasting)\n",
    "Набор правил, которые позволяют осуществлять бинарные операции с массивами разных форм и размеров"
   ]
  },
  {
   "cell_type": "code",
   "execution_count": 26,
   "id": "cbe663a6-ecee-4cfa-84c7-8a0f7d5cb179",
   "metadata": {},
   "outputs": [
    {
     "name": "stdout",
     "output_type": "stream",
     "text": [
      "[5. 6. 7.]\n",
      "[5. 6. 7.]\n"
     ]
    }
   ],
   "source": [
    "a = np.array([0., 1., 2.])\n",
    "b = np.array([5, 5, 5])\n",
    "print(a + b)\n",
    "print(a + 5) #пятерка транслируется в [5, 5, 5]"
   ]
  },
  {
   "cell_type": "code",
   "execution_count": 30,
   "id": "61eea257-0944-4769-8ada-caacffa71d40",
   "metadata": {},
   "outputs": [
    {
     "name": "stdout",
     "output_type": "stream",
     "text": [
      "[[ 6  7  8]\n",
      " [ 9 10 11]]\n"
     ]
    }
   ],
   "source": [
    "a = np.array([[1, 2, 3], [4, 5, 6]])\n",
    "print(a + 5)"
   ]
  },
  {
   "cell_type": "code",
   "execution_count": 32,
   "id": "2dd8dbe9-8192-4045-9a8d-7fe8c52c745b",
   "metadata": {},
   "outputs": [
    {
     "name": "stdout",
     "output_type": "stream",
     "text": [
      "[[0 1 2]\n",
      " [1 2 3]\n",
      " [2 3 4]]\n"
     ]
    }
   ],
   "source": [
    "a = np.array([0, 1, 2])\n",
    "b = np.array([[0], [1], [2]])\n",
    "print(a + b)"
   ]
  },
  {
   "cell_type": "markdown",
   "id": "acc1ce7c-56e2-4412-84fa-2b6c5136dad0",
   "metadata": {},
   "source": [
    "Правила:\n",
    "1) Если размерности массивов отличаются, то форма массива с меньшей размерностью дополняется единицей с левой стороны"
   ]
  },
  {
   "cell_type": "code",
   "execution_count": 41,
   "id": "2e2fb4e3-3335-4566-9b81-c15358e63ca2",
   "metadata": {},
   "outputs": [
    {
     "name": "stdout",
     "output_type": "stream",
     "text": [
      "2 (2, 3)\n",
      "1 (1,)\n"
     ]
    }
   ],
   "source": [
    "a = np.array([[1, 2, 3], [4, 5, 6]])\n",
    "b = np.array([5])\n",
    "print(a.ndim, a.shape)\n",
    "print(b.ndim, b.shape)\n",
    "#b (1,) -> (1, 1)"
   ]
  },
  {
   "cell_type": "markdown",
   "id": "d1c18aee-32bd-4526-b5db-ffe3721206d3",
   "metadata": {},
   "source": [
    "2. Если формы массивов не совпадают в каком-то измерении, то если у массива форма равна 1, то он растягивается до соответствия"
   ]
  },
  {
   "cell_type": "code",
   "execution_count": 44,
   "id": "dc4b29d5-2f22-4471-8334-2e3d65882db5",
   "metadata": {},
   "outputs": [
    {
     "name": "stdout",
     "output_type": "stream",
     "text": [
      "2 (2, 3)\n",
      "1 (1,)\n"
     ]
    }
   ],
   "source": [
    "a = np.array([[1, 2, 3], [4, 5, 6]])\n",
    "b = np.array([5])\n",
    "print(a.ndim, a.shape)\n",
    "print(b.ndim, b.shape)\n",
    "#b (1,) -> (1, 1)"
   ]
  },
  {
   "cell_type": "markdown",
   "id": "59c55011-83bc-4ff1-9812-7a47b44364c0",
   "metadata": {},
   "source": [
    "3. Если в каком-либо измерении размеры отличаются и ни один из них не равен 1, то генерируется ошибка "
   ]
  },
  {
   "cell_type": "code",
   "execution_count": 53,
   "id": "2fda592b-42d6-4e40-9fd7-8d5aa8383157",
   "metadata": {},
   "outputs": [
    {
     "name": "stdout",
     "output_type": "stream",
     "text": [
      "[[1. 1. 1.]\n",
      " [1. 1. 1.]]\n",
      "[0 1 2]\n"
     ]
    }
   ],
   "source": [
    "a = np.ones((2, 3))\n",
    "b = np.arange(3)\n",
    "print(a)\n",
    "print(b)"
   ]
  },
  {
   "cell_type": "code",
   "execution_count": 55,
   "id": "e7c4be65-9971-48ca-bf72-91f61578e3b2",
   "metadata": {},
   "outputs": [
    {
     "name": "stdout",
     "output_type": "stream",
     "text": [
      "2 (2, 3)\n",
      "1 (3,)\n"
     ]
    }
   ],
   "source": [
    "print(a.ndim, a.shape)\n",
    "print(b.ndim, b.shape)"
   ]
  },
  {
   "cell_type": "code",
   "execution_count": 57,
   "id": "2b0a7a50-bf37-4251-b292-a20c65fc85c8",
   "metadata": {},
   "outputs": [
    {
     "name": "stdout",
     "output_type": "stream",
     "text": [
      "(2, 3)\n"
     ]
    }
   ],
   "source": [
    "# 1 шаг: (3,) -> (1, 3), (2, 3) - без изменений\n",
    "# 2 шаг: (1, 3) -> (2, 3), (2, 3) - без изменений\n",
    "c = a + b\n",
    "print(c.shape)"
   ]
  },
  {
   "cell_type": "code",
   "execution_count": 59,
   "id": "62611016-b733-4a55-bdd5-cf561823c178",
   "metadata": {},
   "outputs": [
    {
     "name": "stdout",
     "output_type": "stream",
     "text": [
      "[[0]\n",
      " [1]\n",
      " [2]]\n",
      "[0 1 2]\n"
     ]
    }
   ],
   "source": [
    "a = np.arange(3).reshape((3, 1))\n",
    "b = np.arange(3)\n",
    "print(a)\n",
    "print(b)"
   ]
  },
  {
   "cell_type": "code",
   "execution_count": 61,
   "id": "2f28d2d8-3863-4b49-836e-b9e897f7f56c",
   "metadata": {},
   "outputs": [
    {
     "name": "stdout",
     "output_type": "stream",
     "text": [
      "2 (3, 1)\n",
      "1 (3,)\n"
     ]
    }
   ],
   "source": [
    "print(a.ndim, a.shape)\n",
    "print(b.ndim, b.shape)"
   ]
  },
  {
   "cell_type": "code",
   "execution_count": 65,
   "id": "22540a8a-d1dd-4046-bdb8-8e2ff4938b71",
   "metadata": {},
   "outputs": [
    {
     "name": "stdout",
     "output_type": "stream",
     "text": [
      "(3, 3)\n"
     ]
    }
   ],
   "source": [
    "#(3, 1) -> (3, 3)\n",
    "#(3, 1) -> (1, 3) -> (3, 3)\n",
    "c = a + b\n",
    "print(c.shape)"
   ]
  },
  {
   "cell_type": "code",
   "execution_count": 67,
   "id": "1a610ac9-52bb-4dda-9c63-f8247fa3361c",
   "metadata": {},
   "outputs": [
    {
     "name": "stdout",
     "output_type": "stream",
     "text": [
      "[5. 5. 5. 5. 5. 5. 5. 5. 5.]\n"
     ]
    }
   ],
   "source": [
    "x = np.array([[1, 2, 3, 4, 5, 6, 7, 8, 9], \n",
    "              [9, 8, 7, 6, 5, 4, 3, 2, 1]])\n",
    "Xmean = x.mean(0)\n",
    "print(Xmean)"
   ]
  },
  {
   "cell_type": "code",
   "execution_count": 69,
   "id": "cfe77268-71d1-4bae-baa8-c2cb876837de",
   "metadata": {},
   "outputs": [
    {
     "name": "stdout",
     "output_type": "stream",
     "text": [
      "[[-4. -3. -2. -1.  0.  1.  2.  3.  4.]\n",
      " [ 4.  3.  2.  1.  0. -1. -2. -3. -4.]]\n"
     ]
    }
   ],
   "source": [
    "Xcenter = x - Xmean\n",
    "print(Xcenter)"
   ]
  },
  {
   "cell_type": "code",
   "execution_count": 71,
   "id": "9a408d6d-d032-41c2-ab0a-2298e8575243",
   "metadata": {},
   "outputs": [
    {
     "name": "stdout",
     "output_type": "stream",
     "text": [
      "[5. 5.]\n"
     ]
    }
   ],
   "source": [
    "Xmean = x.mean(1)\n",
    "print(Xmean)"
   ]
  },
  {
   "cell_type": "code",
   "execution_count": 75,
   "id": "330e9972-4a32-44fc-885a-93452f889dc6",
   "metadata": {},
   "outputs": [
    {
     "ename": "ValueError",
     "evalue": "operands could not be broadcast together with shapes (2,9) (2,) ",
     "output_type": "error",
     "traceback": [
      "\u001b[0;31m---------------------------------------------------------------------------\u001b[0m",
      "\u001b[0;31mValueError\u001b[0m                                Traceback (most recent call last)",
      "Cell \u001b[0;32mIn[75], line 1\u001b[0m\n\u001b[0;32m----> 1\u001b[0m Xcenter1 \u001b[38;5;241m=\u001b[39m x \u001b[38;5;241m-\u001b[39m Xmean \u001b[38;5;66;03m#ошибка\u001b[39;00m\n\u001b[1;32m      2\u001b[0m \u001b[38;5;28mprint\u001b[39m(Xcenter1)\n",
      "\u001b[0;31mValueError\u001b[0m: operands could not be broadcast together with shapes (2,9) (2,) "
     ]
    }
   ],
   "source": [
    "Xcenter1 = x - Xmean #ошибка\n",
    "print(Xcenter1)"
   ]
  },
  {
   "cell_type": "code",
   "execution_count": 77,
   "id": "1fd599cb-ad2e-4c2a-a0fd-4153cb1a8621",
   "metadata": {},
   "outputs": [
    {
     "name": "stdout",
     "output_type": "stream",
     "text": [
      "[[-4. -3. -2. -1.  0.  1.  2.  3.  4.]\n",
      " [ 4.  3.  2.  1.  0. -1. -2. -3. -4.]]\n"
     ]
    }
   ],
   "source": [
    "Xmean1 = Xmean[:, np.newaxis]\n",
    "Xcenter1 = x - Xmean1\n",
    "print(Xcenter1)"
   ]
  },
  {
   "cell_type": "code",
   "execution_count": 81,
   "id": "1913f216-cbb0-469a-b100-7e5d119a1fe0",
   "metadata": {},
   "outputs": [
    {
     "name": "stdout",
     "output_type": "stream",
     "text": [
      "(50, 50)\n"
     ]
    }
   ],
   "source": [
    "x = np.linspace(0, 5, 50)\n",
    "y = np.linspace(0, 5, 50)[:, np.newaxis]\n",
    "z = np.sin(x) ** 3 + np.cos(20 + y * x) * np.sin(y)\n",
    "\n",
    "print(z.shape)"
   ]
  },
  {
   "cell_type": "code",
   "execution_count": 85,
   "id": "720c724a-1733-4f87-9b45-bcecffdd4061",
   "metadata": {},
   "outputs": [
    {
     "data": {
      "image/png": "[encoded data removed]",
      "text/plain": [
       "<Figure size 640x480 with 2 Axes>"
      ]
     },
     "metadata": {},
     "output_type": "display_data"
    }
   ],
   "source": [
    "import matplotlib.pyplot as plt\n",
    "plt.imshow(z)\n",
    "plt.colorbar()\n",
    "plt.show()"
   ]
  },
  {
   "cell_type": "code",
   "execution_count": 89,
   "id": "2bde7aaf-fa5b-4fc9-9252-53a1825f0a99",
   "metadata": {},
   "outputs": [
    {
     "name": "stdout",
     "output_type": "stream",
     "text": [
      "[ True  True False False False]\n",
      "[ True  True False False False]\n"
     ]
    }
   ],
   "source": [
    "x = np.array([1, 2, 3, 4, 5])\n",
    "print(x < 3)\n",
    "print(np.less(x, 3))"
   ]
  },
  {
   "cell_type": "code",
   "execution_count": 91,
   "id": "83bec7b5-5242-4196-969a-6b546f7d32d5",
   "metadata": {},
   "outputs": [
    {
     "name": "stdout",
     "output_type": "stream",
     "text": [
      "2\n"
     ]
    }
   ],
   "source": [
    "#False = 0\n",
    "#True = 1\n",
    "print(np.sum(x < 3))"
   ]
  },
  {
   "cell_type": "code",
   "execution_count": 103,
   "id": "c91c4d6d-48f4-412a-9428-b58a6bf61438",
   "metadata": {},
   "outputs": [
    {
     "name": "stdout",
     "output_type": "stream",
     "text": [
      "[[ True  True False False False]\n",
      " [False False False False False]]\n",
      "[1 1 1 0 0]\n",
      "[3 0]\n"
     ]
    }
   ],
   "source": [
    "y = np.array([[1, 2, 3, 4, 5], [6, 7, 8, 9, 10]])\n",
    "print(y < 3)\n",
    "print(np.sum(y < 4, axis=0))\n",
    "print(np.sum(y < 4, axis=1))"
   ]
  },
  {
   "cell_type": "markdown",
   "id": "39153af2-28d4-4b37-85cb-24e21c5ac652",
   "metadata": {},
   "source": [
    "#### Маски - булевы массивы"
   ]
  },
  {
   "cell_type": "code",
   "execution_count": 106,
   "id": "288cccbc-12f9-452a-b64e-3aa8967c2510",
   "metadata": {},
   "outputs": [
    {
     "name": "stdout",
     "output_type": "stream",
     "text": [
      "[ True  True False False False]\n"
     ]
    }
   ],
   "source": [
    "x = np.array([1, 2, 3, 4, 5])\n",
    "y = print(x < 3)"
   ]
  },
  {
   "cell_type": "code",
   "execution_count": 110,
   "id": "cfe52117-f57f-46c1-a7d5-b1e2143aad01",
   "metadata": {},
   "outputs": [
    {
     "name": "stdout",
     "output_type": "stream",
     "text": [
      "[1 2]\n"
     ]
    }
   ],
   "source": [
    "print(x[x < 3])"
   ]
  },
  {
   "cell_type": "code",
   "execution_count": 112,
   "id": "d0494e3f-2a21-4f8a-8fd6-db18a8238671",
   "metadata": {},
   "outputs": [
    {
     "name": "stdout",
     "output_type": "stream",
     "text": [
      "0b101010\n",
      "0b111011\n",
      "0b101010\n"
     ]
    }
   ],
   "source": [
    "print(bin(42))\n",
    "print(bin(59))\n",
    "print(bin(42 & 59))"
   ]
  },
  {
   "cell_type": "markdown",
   "id": "34a14fe3-27ca-4eb5-b817-dbd42d17780e",
   "metadata": {},
   "source": [
    "#### Векторизация индекса"
   ]
  },
  {
   "cell_type": "code",
   "execution_count": 116,
   "id": "6707223d-5217-4739-9c81-988533fe9a56",
   "metadata": {},
   "outputs": [
    {
     "name": "stdout",
     "output_type": "stream",
     "text": [
      "[1 5 7]\n"
     ]
    }
   ],
   "source": [
    "a = np.array([0, 1, 2, 3, 4, 5, 6, 7, 8, 9])\n",
    "index = [1, 5, 7]\n",
    "print(a[index])"
   ]
  },
  {
   "cell_type": "code",
   "execution_count": 118,
   "id": "f0fdd730-14e6-4273-929d-58435ddc7f26",
   "metadata": {},
   "outputs": [
    {
     "name": "stdout",
     "output_type": "stream",
     "text": [
      "[[1 5 7]\n",
      " [2 4 8]]\n"
     ]
    }
   ],
   "source": [
    "index = [[1, 5, 7], [2, 4, 8]]\n",
    "print(a[index])"
   ]
  },
  {
   "cell_type": "code",
   "execution_count": 130,
   "id": "5c149756-bde5-471c-a897-aafbe2754f8f",
   "metadata": {},
   "outputs": [
    {
     "name": "stdout",
     "output_type": "stream",
     "text": [
      "[[ 0  1  2  3]\n",
      " [ 4  5  6  7]\n",
      " [ 8  9 10 11]]\n",
      "[10  8  9]\n",
      "[[ 6  4  5]\n",
      " [10  8  9]]\n"
     ]
    }
   ],
   "source": [
    "x = np.arange(12).reshape((3, 4))\n",
    "print(x)\n",
    "print(x[2, [2, 0, 1]])\n",
    "print(x[1:, [2, 0, 1]])"
   ]
  },
  {
   "cell_type": "code",
   "execution_count": 134,
   "id": "fe35f43c-e805-4286-8fb3-a4773825aefc",
   "metadata": {},
   "outputs": [
    {
     "name": "stdout",
     "output_type": "stream",
     "text": [
      "[0 1 2 3 4 5 6 7 8 9]\n",
      "[  0 999 999   3 999   5   6   7 999   9]\n"
     ]
    }
   ],
   "source": [
    "x = np.arange(10)\n",
    "i = np.array([2, 1, 8, 4])\n",
    "print(x)\n",
    "x[i] = 999\n",
    "print(x)"
   ]
  },
  {
   "cell_type": "markdown",
   "id": "fa5c4fb7-04fa-4639-abf8-235b8fe8f220",
   "metadata": {},
   "source": [
    "#### Сортировка"
   ]
  },
  {
   "cell_type": "code",
   "execution_count": 141,
   "id": "21834596-3464-4ec6-ba2d-501c06f631b8",
   "metadata": {},
   "outputs": [
    {
     "name": "stdout",
     "output_type": "stream",
     "text": [
      "[2, 2, 3, 3, 5, 6, 8, 10]\n",
      "[ 2  2  3  3  5  6  8 10]\n"
     ]
    }
   ],
   "source": [
    "x = [3, 2, 3, 10, 2, 5, 6, 8]\n",
    "print(sorted(x))\n",
    "print(np.sort(x))"
   ]
  },
  {
   "cell_type": "code",
   "execution_count": 147,
   "id": "0a170174-9b75-4cf1-99d2-a786ea8c36c0",
   "metadata": {},
   "outputs": [
    {
     "name": "stdout",
     "output_type": "stream",
     "text": [
      "[('name', '<U10'), ('age', '<i4')]\n"
     ]
    }
   ],
   "source": [
    "data =np.zeros(4, dtype={\n",
    "    'names': ('name', 'age'),\n",
    "    'formats': ('U10', 'i4')\n",
    "})\n",
    "print(data.dtype)"
   ]
  },
  {
   "cell_type": "code",
   "execution_count": 155,
   "id": "80654698-89c7-4c07-afac-e8e8448d7664",
   "metadata": {},
   "outputs": [
    {
     "name": "stdout",
     "output_type": "stream",
     "text": [
      "[('name1', 10) ('name2', 20) ('name3', 30) ('name4', 40)]\n",
      "[('name3', 30) ('name4', 40)]\n"
     ]
    }
   ],
   "source": [
    "name = np.array(['name1', 'name2', 'name3', 'name4'])\n",
    "age = np.array([10, 20, 30, 40])\n",
    "data['name'] = name\n",
    "data['age'] = age\n",
    "print(data)\n",
    "print(data[age > 20])"
   ]
  },
  {
   "cell_type": "markdown",
   "id": "33f84852-7178-410d-afb0-93e97663a10d",
   "metadata": {},
   "source": [
    "#### Массивы записей"
   ]
  },
  {
   "cell_type": "code",
   "execution_count": 158,
   "id": "9dfda7e9-de10-4df5-aae2-254b495d1cb2",
   "metadata": {},
   "outputs": [
    {
     "name": "stdout",
     "output_type": "stream",
     "text": [
      "[('name1', 10) ('name2', 20) ('name3', 30) ('name4', 40)]\n",
      "('name1', 10)\n"
     ]
    }
   ],
   "source": [
    "data_rec = data.view(np.recarray)\n",
    "print(data_rec)\n",
    "print(data_rec[0])"
   ]
  },
  {
   "cell_type": "code",
   "execution_count": null,
   "id": "5f927af0-c851-4698-882e-ad80262ba57d",
   "metadata": {},
   "outputs": [],
   "source": []
  }
 ],
 "metadata": {
  "kernelspec": {
   "display_name": "Python 3 (ipykernel)",
   "language": "python",
   "name": "python3"
  },
  "language_info": {
   "codemirror_mode": {
    "name": "ipython",
    "version": 3
   },
   "file_extension": ".py",
   "mimetype": "text/x-python",
   "name": "python",
   "nbconvert_exporter": "python",
   "pygments_lexer": "ipython3",
   "version": "3.11.5"
  }
 },
 "nbformat": 4,
 "nbformat_minor": 5
}
