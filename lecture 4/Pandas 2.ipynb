{
 "cells": [
  {
   "cell_type": "markdown",
   "id": "6d5e0dc0-4373-41ca-9250-581a5d40710b",
   "metadata": {},
   "source": [
    "#### Многомерный pandas"
   ]
  },
  {
   "cell_type": "code",
   "execution_count": 5,
   "id": "25888003-7fe0-4fd7-bf59-d27ce8c0e43f",
   "metadata": {},
   "outputs": [
    {
     "name": "stdout",
     "output_type": "stream",
     "text": [
      "(city_1, 2010)    101\n",
      "(city_1, 2020)    201\n",
      "(city_2, 2010)    102\n",
      "(city_2, 2020)    202\n",
      "(city_3, 2010)    103\n",
      "(city_3, 2020)    203\n",
      "dtype: int64\n"
     ]
    }
   ],
   "source": [
    "import pandas as pd\n",
    "import numpy as np\n",
    "#Если размерность данных больше 2, то используют иерархическую индексацию (мультииндекс)\n",
    "index = [\n",
    "    ('city_1', 2010),\n",
    "    ('city_1', 2020),\n",
    "    ('city_2', 2010),\n",
    "    ('city_2', 2020),\n",
    "    ('city_3', 2010),\n",
    "    ('city_3', 2020),\n",
    "]\n",
    "\n",
    "population = [\n",
    "    101,\n",
    "    201,\n",
    "    102,\n",
    "    202,\n",
    "    103,\n",
    "    203\n",
    "]\n",
    "\n",
    "pop = pd.Series(population, index=index)\n",
    "print(pop)"
   ]
  },
  {
   "cell_type": "code",
   "execution_count": 7,
   "id": "e68598fa-b9a4-4dfd-9d97-5a282f515a16",
   "metadata": {},
   "outputs": [
    {
     "name": "stdout",
     "output_type": "stream",
     "text": [
      "(city_1, 2020)    201\n",
      "(city_2, 2020)    202\n",
      "(city_3, 2020)    203\n",
      "dtype: int64\n"
     ]
    }
   ],
   "source": [
    "print(pop[ [i for i in pop.index if i[1] == 2020] ])"
   ]
  },
  {
   "cell_type": "code",
   "execution_count": 9,
   "id": "4df27a22-6075-423c-965c-3f480c3b16e6",
   "metadata": {},
   "outputs": [
    {
     "name": "stdout",
     "output_type": "stream",
     "text": [
      "city_1  2010    101\n",
      "        2020    201\n",
      "city_2  2010    102\n",
      "        2020    202\n",
      "city_3  2010    103\n",
      "        2020    203\n",
      "dtype: int64\n"
     ]
    }
   ],
   "source": [
    "# MultiIndex\n",
    "index = pd.MultiIndex.from_tuples(index)\n",
    "pop = pop.reindex(index)\n",
    "print(pop)"
   ]
  },
  {
   "cell_type": "code",
   "execution_count": 11,
   "id": "87d0a53f-add6-442a-8168-3c2baef5d032",
   "metadata": {},
   "outputs": [
    {
     "name": "stdout",
     "output_type": "stream",
     "text": [
      "city_1    201\n",
      "city_2    202\n",
      "city_3    203\n",
      "dtype: int64\n"
     ]
    }
   ],
   "source": [
    "print(pop[:, 2020])"
   ]
  },
  {
   "cell_type": "code",
   "execution_count": 13,
   "id": "a5d521d0-8657-44d5-a8c4-45033252a795",
   "metadata": {},
   "outputs": [
    {
     "name": "stdout",
     "output_type": "stream",
     "text": [
      "        2010  2020\n",
      "city_1   101   201\n",
      "city_2   102   202\n",
      "city_3   103   203\n"
     ]
    }
   ],
   "source": [
    "pop_df = pop.unstack()\n",
    "print(pop_df)"
   ]
  },
  {
   "cell_type": "code",
   "execution_count": 15,
   "id": "7bce1271-2e8d-4edb-822c-8d702ad6faef",
   "metadata": {},
   "outputs": [
    {
     "name": "stdout",
     "output_type": "stream",
     "text": [
      "city_1  2010    101\n",
      "        2020    201\n",
      "city_2  2010    102\n",
      "        2020    202\n",
      "city_3  2010    103\n",
      "        2020    203\n",
      "dtype: int64\n"
     ]
    }
   ],
   "source": [
    "print(pop_df.stack())"
   ]
  },
  {
   "cell_type": "code",
   "execution_count": 17,
   "id": "03f4e795-a95f-400f-948d-cda54e743c71",
   "metadata": {},
   "outputs": [
    {
     "name": "stdout",
     "output_type": "stream",
     "text": [
      "(city_1, 2010, 1)     101\n",
      "(city_1, 2010, 2)    1010\n",
      "(city_1, 2020, 1)     201\n",
      "(city_1, 2020, 2)    2010\n",
      "(city_2, 2010, 1)     102\n",
      "(city_2, 2010, 2)    1020\n",
      "(city_2, 2020, 1)     202\n",
      "(city_2, 2020, 2)    2020\n",
      "(city_3, 2010, 1)     103\n",
      "(city_3, 2010, 2)    1030\n",
      "(city_3, 2020, 1)     203\n",
      "(city_3, 2020, 2)    2030\n",
      "dtype: int64\n"
     ]
    }
   ],
   "source": [
    "index = [\n",
    "    ('city_1', 2010, 1),\n",
    "    ('city_1', 2010, 2),\n",
    "    \n",
    "    ('city_1', 2020, 1),\n",
    "    ('city_1', 2020, 2),\n",
    "    \n",
    "    ('city_2', 2010, 1),\n",
    "    ('city_2', 2010, 2),\n",
    "    \n",
    "    ('city_2', 2020, 1),\n",
    "    ('city_2', 2020, 2),\n",
    "    \n",
    "    ('city_3', 2010, 1),\n",
    "    ('city_3', 2010, 2),\n",
    "    \n",
    "    ('city_3', 2020, 1),\n",
    "    ('city_3', 2020, 2),\n",
    "]\n",
    "\n",
    "population = [\n",
    "    101,\n",
    "    1010,\n",
    "    201,\n",
    "    2010,\n",
    "    102,\n",
    "    1020,\n",
    "    202,\n",
    "    2020,\n",
    "    103,\n",
    "    1030,\n",
    "    203,\n",
    "    2030\n",
    "]\n",
    "pop = pd.Series(population, index=index)\n",
    "print(pop)"
   ]
  },
  {
   "cell_type": "code",
   "execution_count": 19,
   "id": "de1eb7c9-38c2-4a47-bec1-f360dfa45cbd",
   "metadata": {},
   "outputs": [
    {
     "name": "stdout",
     "output_type": "stream",
     "text": [
      "city_1  2010  1     101\n",
      "              2    1010\n",
      "        2020  1     201\n",
      "              2    2010\n",
      "city_2  2010  1     102\n",
      "              2    1020\n",
      "        2020  1     202\n",
      "              2    2020\n",
      "city_3  2010  1     103\n",
      "              2    1030\n",
      "        2020  1     203\n",
      "              2    2030\n",
      "dtype: int64\n"
     ]
    }
   ],
   "source": [
    "index = pd.MultiIndex.from_tuples(index)\n",
    "pop = pop.reindex(index)\n",
    "print(pop)"
   ]
  },
  {
   "cell_type": "code",
   "execution_count": 21,
   "id": "547e4b40-57eb-47cd-94d6-829b74baab7b",
   "metadata": {},
   "outputs": [
    {
     "name": "stdout",
     "output_type": "stream",
     "text": [
      "city_1  1     101\n",
      "        2    1010\n",
      "city_2  1     102\n",
      "        2    1020\n",
      "city_3  1     103\n",
      "        2    1030\n",
      "dtype: int64\n"
     ]
    }
   ],
   "source": [
    "print(pop[:, 2010])"
   ]
  },
  {
   "cell_type": "code",
   "execution_count": 23,
   "id": "39ec4e8b-31e7-4a9e-be00-0aa63dde1f38",
   "metadata": {},
   "outputs": [
    {
     "name": "stdout",
     "output_type": "stream",
     "text": [
      "city_1  2010    1010\n",
      "        2020    2010\n",
      "city_2  2010    1020\n",
      "        2020    2020\n",
      "city_3  2010    1030\n",
      "        2020    2030\n",
      "dtype: int64\n"
     ]
    }
   ],
   "source": [
    "print(pop[:, :, 2])"
   ]
  },
  {
   "cell_type": "code",
   "execution_count": 25,
   "id": "0b848fda-4290-4f7c-a1ad-9e2d1ea58cd2",
   "metadata": {},
   "outputs": [
    {
     "name": "stdout",
     "output_type": "stream",
     "text": [
      "               1     2\n",
      "city_1 2010  101  1010\n",
      "       2020  201  2010\n",
      "city_2 2010  102  1020\n",
      "       2020  202  2020\n",
      "city_3 2010  103  1030\n",
      "       2020  203  2030\n"
     ]
    }
   ],
   "source": [
    "pop_df = pop.unstack()\n",
    "print(pop_df)"
   ]
  },
  {
   "cell_type": "code",
   "execution_count": 27,
   "id": "8fcf89d1-285b-4a7f-8c7d-571f678fbb4b",
   "metadata": {},
   "outputs": [
    {
     "name": "stdout",
     "output_type": "stream",
     "text": [
      "city_1  2010  1     101\n",
      "              2    1010\n",
      "        2020  1     201\n",
      "              2    2010\n",
      "city_2  2010  1     102\n",
      "              2    1020\n",
      "        2020  1     202\n",
      "              2    2020\n",
      "city_3  2010  1     103\n",
      "              2    1030\n",
      "        2020  1     203\n",
      "              2    2030\n",
      "dtype: int64\n"
     ]
    }
   ],
   "source": [
    "print(pop_df.stack())"
   ]
  },
  {
   "cell_type": "code",
   "execution_count": 29,
   "id": "d10d9def-0655-490d-b50f-476090763b51",
   "metadata": {},
   "outputs": [
    {
     "name": "stdout",
     "output_type": "stream",
     "text": [
      "               total  something\n",
      "city_1 2010 1    101         11\n",
      "            2   1010         12\n",
      "       2020 1    201         13\n",
      "            2   2010         14\n",
      "city_2 2010 1    102         15\n",
      "            2   1020         16\n",
      "       2020 1    202         17\n",
      "            2   2020         18\n",
      "city_3 2010 1    103         19\n",
      "            2   1030         20\n",
      "       2020 1    203         21\n",
      "            2   2030         22\n"
     ]
    }
   ],
   "source": [
    "pop_df = pd.DataFrame(\n",
    "    {\n",
    "        'total': pop,\n",
    "        'something': [\n",
    "            11,\n",
    "            12,\n",
    "            13,\n",
    "            14,\n",
    "            15,\n",
    "            16,\n",
    "            17,\n",
    "            18,\n",
    "            19,\n",
    "            20,\n",
    "            21,\n",
    "            22\n",
    "        ]\n",
    "    }\n",
    ")\n",
    "print(pop_df)"
   ]
  },
  {
   "cell_type": "code",
   "execution_count": 31,
   "id": "6f67b4e1-3ca4-427b-865d-c824e484d53e",
   "metadata": {},
   "outputs": [
    {
     "name": "stdout",
     "output_type": "stream",
     "text": [
      "city_1  2010  1    11\n",
      "              2    12\n",
      "        2020  1    13\n",
      "              2    14\n",
      "city_2  2010  1    15\n",
      "              2    16\n",
      "        2020  1    17\n",
      "              2    18\n",
      "city_3  2010  1    19\n",
      "              2    20\n",
      "        2020  1    21\n",
      "              2    22\n",
      "Name: something, dtype: int64\n"
     ]
    }
   ],
   "source": [
    "print(pop_df['something'])"
   ]
  },
  {
   "cell_type": "code",
   "execution_count": 33,
   "id": "41ddef87-c768-4808-af6e-ad8b38aab5c7",
   "metadata": {},
   "outputs": [
    {
     "ename": "TypeError",
     "evalue": "unhashable type: 'list'",
     "output_type": "error",
     "traceback": [
      "\u001b[0;31m---------------------------------------------------------------------------\u001b[0m",
      "\u001b[0;31mTypeError\u001b[0m                                 Traceback (most recent call last)",
      "\u001b[0;32m/var/folders/9v/9xrf6ssx3n7dph5j834hzq4r0000gn/T/ipykernel_3255/3539316276.py\u001b[0m in \u001b[0;36m?\u001b[0;34m()\u001b[0m\n\u001b[0;32m----> 1\u001b[0;31m \u001b[0mpop_df_1\u001b[0m \u001b[0;34m=\u001b[0m \u001b[0mpop_df\u001b[0m\u001b[0;34m.\u001b[0m\u001b[0mloc\u001b[0m\u001b[0;34m(\u001b[0m\u001b[0;34m[\u001b[0m\u001b[0;34m'city_1'\u001b[0m\u001b[0;34m,\u001b[0m \u001b[0;34m'something'\u001b[0m\u001b[0;34m]\u001b[0m\u001b[0;34m)\u001b[0m\u001b[0;34m\u001b[0m\u001b[0;34m\u001b[0m\u001b[0m\n\u001b[0m\u001b[1;32m      2\u001b[0m \u001b[0mprint\u001b[0m\u001b[0;34m(\u001b[0m\u001b[0mpop_df_1\u001b[0m\u001b[0;34m)\u001b[0m\u001b[0;34m\u001b[0m\u001b[0;34m\u001b[0m\u001b[0m\n",
      "\u001b[0;32m~/anaconda3/lib/python3.11/site-packages/pandas/core/indexing.py\u001b[0m in \u001b[0;36m?\u001b[0;34m(self, axis)\u001b[0m\n\u001b[1;32m    675\u001b[0m         \u001b[0;31m# we need to return a copy of ourselves\u001b[0m\u001b[0;34m\u001b[0m\u001b[0;34m\u001b[0m\u001b[0m\n\u001b[1;32m    676\u001b[0m         \u001b[0mnew_self\u001b[0m \u001b[0;34m=\u001b[0m \u001b[0mtype\u001b[0m\u001b[0;34m(\u001b[0m\u001b[0mself\u001b[0m\u001b[0;34m)\u001b[0m\u001b[0;34m(\u001b[0m\u001b[0mself\u001b[0m\u001b[0;34m.\u001b[0m\u001b[0mname\u001b[0m\u001b[0;34m,\u001b[0m \u001b[0mself\u001b[0m\u001b[0;34m.\u001b[0m\u001b[0mobj\u001b[0m\u001b[0;34m)\u001b[0m\u001b[0;34m\u001b[0m\u001b[0;34m\u001b[0m\u001b[0m\n\u001b[1;32m    677\u001b[0m \u001b[0;34m\u001b[0m\u001b[0m\n\u001b[1;32m    678\u001b[0m         \u001b[0;32mif\u001b[0m \u001b[0maxis\u001b[0m \u001b[0;32mis\u001b[0m \u001b[0;32mnot\u001b[0m \u001b[0;32mNone\u001b[0m\u001b[0;34m:\u001b[0m\u001b[0;34m\u001b[0m\u001b[0;34m\u001b[0m\u001b[0m\n\u001b[0;32m--> 679\u001b[0;31m             \u001b[0maxis_int_none\u001b[0m \u001b[0;34m=\u001b[0m \u001b[0mself\u001b[0m\u001b[0;34m.\u001b[0m\u001b[0mobj\u001b[0m\u001b[0;34m.\u001b[0m\u001b[0m_get_axis_number\u001b[0m\u001b[0;34m(\u001b[0m\u001b[0maxis\u001b[0m\u001b[0;34m)\u001b[0m\u001b[0;34m\u001b[0m\u001b[0;34m\u001b[0m\u001b[0m\n\u001b[0m\u001b[1;32m    680\u001b[0m         \u001b[0;32melse\u001b[0m\u001b[0;34m:\u001b[0m\u001b[0;34m\u001b[0m\u001b[0;34m\u001b[0m\u001b[0m\n\u001b[1;32m    681\u001b[0m             \u001b[0maxis_int_none\u001b[0m \u001b[0;34m=\u001b[0m \u001b[0maxis\u001b[0m\u001b[0;34m\u001b[0m\u001b[0;34m\u001b[0m\u001b[0m\n\u001b[1;32m    682\u001b[0m         \u001b[0mnew_self\u001b[0m\u001b[0;34m.\u001b[0m\u001b[0maxis\u001b[0m \u001b[0;34m=\u001b[0m \u001b[0maxis_int_none\u001b[0m\u001b[0;34m\u001b[0m\u001b[0;34m\u001b[0m\u001b[0m\n",
      "\u001b[0;32m~/anaconda3/lib/python3.11/site-packages/pandas/core/generic.py\u001b[0m in \u001b[0;36m?\u001b[0;34m(cls, axis)\u001b[0m\n\u001b[1;32m    510\u001b[0m     \u001b[0;34m@\u001b[0m\u001b[0mclassmethod\u001b[0m\u001b[0;34m\u001b[0m\u001b[0;34m\u001b[0m\u001b[0m\n\u001b[1;32m    511\u001b[0m     \u001b[0;32mdef\u001b[0m \u001b[0m_get_axis_number\u001b[0m\u001b[0;34m(\u001b[0m\u001b[0mcls\u001b[0m\u001b[0;34m,\u001b[0m \u001b[0maxis\u001b[0m\u001b[0;34m:\u001b[0m \u001b[0mAxis\u001b[0m\u001b[0;34m)\u001b[0m \u001b[0;34m->\u001b[0m \u001b[0mAxisInt\u001b[0m\u001b[0;34m:\u001b[0m\u001b[0;34m\u001b[0m\u001b[0;34m\u001b[0m\u001b[0m\n\u001b[1;32m    512\u001b[0m         \u001b[0;32mtry\u001b[0m\u001b[0;34m:\u001b[0m\u001b[0;34m\u001b[0m\u001b[0;34m\u001b[0m\u001b[0m\n\u001b[1;32m    513\u001b[0m             \u001b[0;32mreturn\u001b[0m \u001b[0mcls\u001b[0m\u001b[0;34m.\u001b[0m\u001b[0m_AXIS_TO_AXIS_NUMBER\u001b[0m\u001b[0;34m[\u001b[0m\u001b[0maxis\u001b[0m\u001b[0;34m]\u001b[0m\u001b[0;34m\u001b[0m\u001b[0;34m\u001b[0m\u001b[0m\n\u001b[0;32m--> 514\u001b[0;31m         \u001b[0;32mexcept\u001b[0m \u001b[0mKeyError\u001b[0m\u001b[0;34m:\u001b[0m\u001b[0;34m\u001b[0m\u001b[0;34m\u001b[0m\u001b[0m\n\u001b[0m\u001b[1;32m    515\u001b[0m             \u001b[0;32mraise\u001b[0m \u001b[0mValueError\u001b[0m\u001b[0;34m(\u001b[0m\u001b[0;34mf\"No axis named {axis} for object type {cls.__name__}\"\u001b[0m\u001b[0;34m)\u001b[0m\u001b[0;34m\u001b[0m\u001b[0;34m\u001b[0m\u001b[0m\n",
      "\u001b[0;31mTypeError\u001b[0m: unhashable type: 'list'"
     ]
    }
   ],
   "source": [
    "pop_df_1 = pop_df.loc(['city_1', 'something'])\n",
    "print(pop_df_1)"
   ]
  },
  {
   "cell_type": "code",
   "execution_count": 35,
   "id": "efaf0e7d-ae9a-4f3b-a4a4-f751f0235d9c",
   "metadata": {},
   "outputs": [
    {
     "name": "stdout",
     "output_type": "stream",
     "text": [
      "MultiIndex([('a', 1),\n",
      "            ('a', 2),\n",
      "            ('b', 1),\n",
      "            ('b', 2)],\n",
      "           )\n"
     ]
    }
   ],
   "source": [
    "#Как можно создававть мультииндексы:\n",
    "#1) Список массивов, задающих значение индекса на каждом уровне\n",
    "i1 = pd.MultiIndex.from_arrays(\n",
    "    [\n",
    "        ['a', 'a', 'b', 'b'], \n",
    "        [1, 2, 1, 2]\n",
    "    ]\n",
    ")\n",
    "print(i1)"
   ]
  },
  {
   "cell_type": "code",
   "execution_count": 37,
   "id": "6ff7b63a-3b91-4709-b4fa-7f9aa7cb3cbf",
   "metadata": {},
   "outputs": [
    {
     "name": "stdout",
     "output_type": "stream",
     "text": [
      "MultiIndex([('a', 1),\n",
      "            ('a', 2),\n",
      "            ('b', 1),\n",
      "            ('b', 2)],\n",
      "           )\n"
     ]
    }
   ],
   "source": [
    "#2) Список кортежей, задающих значение индекса в каждой точке\n",
    "i2 = pd.MultiIndex.from_tuples(\n",
    "    [\n",
    "        ('a', 1),\n",
    "        ('a', 2), \n",
    "        ('b', 1), \n",
    "        ('b', 2)\n",
    "    ]\n",
    ")\n",
    "print(i2)"
   ]
  },
  {
   "cell_type": "code",
   "execution_count": 39,
   "id": "0b1ade3a-7a18-4d4a-b91a-cdc69b4eca03",
   "metadata": {},
   "outputs": [
    {
     "name": "stdout",
     "output_type": "stream",
     "text": [
      "MultiIndex([('a', 1),\n",
      "            ('a', 2),\n",
      "            ('b', 1),\n",
      "            ('b', 2)],\n",
      "           )\n"
     ]
    }
   ],
   "source": [
    "#3) Через декартово произведение обычных индексов\n",
    "i3 = pd.MultiIndex.from_product(\n",
    "    [\n",
    "    ['a', 'b'], \n",
    "    [1, 2]\n",
    "    ]\n",
    ")\n",
    "print(i3)"
   ]
  },
  {
   "cell_type": "code",
   "execution_count": 41,
   "id": "326c006c-de6e-401b-9176-fb64c238953c",
   "metadata": {},
   "outputs": [
    {
     "name": "stdout",
     "output_type": "stream",
     "text": [
      "MultiIndex([('a', 1),\n",
      "            ('a', 2),\n",
      "            ('b', 1),\n",
      "            ('b', 2)],\n",
      "           )\n"
     ]
    }
   ],
   "source": [
    "#4) Описание внутреннего представления: levels, codes\n",
    "i4 = pd.MultiIndex(\n",
    "    levels = [\n",
    "        ['a', 'b'],\n",
    "        [1, 2]\n",
    "    ],\n",
    "    codes = [\n",
    "        [0, 0, 1, 1],\n",
    "        [0, 1, 0, 1]\n",
    "    ]\n",
    ")\n",
    "print(i4)"
   ]
  },
  {
   "cell_type": "code",
   "execution_count": 43,
   "id": "98598d8a-9c31-4c1c-b179-3a18831f2b29",
   "metadata": {},
   "outputs": [
    {
     "name": "stdout",
     "output_type": "stream",
     "text": [
      "city_1  2010    100\n",
      "        2020    101\n",
      "city_2  2010    102\n",
      "        2020    103\n",
      "dtype: int64\n"
     ]
    }
   ],
   "source": [
    "#уровням можно задавть названия\n",
    "data = {\n",
    "    ('city_1', 2010): 100,\n",
    "    ('city_1', 2020): 101,\n",
    "    ('city_2', 2010): 102,\n",
    "    ('city_2', 2020): 103\n",
    "}\n",
    "\n",
    "s = pd.Series(data)\n",
    "print(s)"
   ]
  },
  {
   "cell_type": "code",
   "execution_count": 45,
   "id": "4df79832-b93a-477e-9c00-2fab6a5ff2f6",
   "metadata": {},
   "outputs": [
    {
     "name": "stdout",
     "output_type": "stream",
     "text": [
      "city    year\n",
      "city_1  2010    100\n",
      "        2020    101\n",
      "city_2  2010    102\n",
      "        2020    103\n",
      "dtype: int64\n"
     ]
    }
   ],
   "source": [
    "s.index.names = ['city', 'year']\n",
    "print(s)"
   ]
  },
  {
   "cell_type": "code",
   "execution_count": 47,
   "id": "85ca1c3c-781d-4fcc-ba45-cec5f6e14fbd",
   "metadata": {},
   "outputs": [
    {
     "name": "stdout",
     "output_type": "stream",
     "text": [
      "MultiIndex([('city_1', 2010),\n",
      "            ('city_1', 2020),\n",
      "            ('city_2', 2010),\n",
      "            ('city_2', 2020)],\n",
      "           names=['city', 'year'])\n"
     ]
    }
   ],
   "source": [
    "index = pd.MultiIndex.from_product(\n",
    "    [\n",
    "        ['city_1', 'city_2'], \n",
    "        [2010, 2020]\n",
    "    ],\n",
    "    names=['city', 'year']\n",
    ")\n",
    "print(index)"
   ]
  },
  {
   "cell_type": "code",
   "execution_count": 49,
   "id": "cd2599e4-a769-4ca5-a0ac-563099b2fa09",
   "metadata": {},
   "outputs": [],
   "source": [
    "columns = pd.MultiIndex.from_product(\n",
    "    [\n",
    "        ['person_1', 'person_2', 'person_3'], \n",
    "        ['jpb_1', 'job_2']\n",
    "    ],\n",
    "    names=['worker', 'job']\n",
    ")"
   ]
  },
  {
   "cell_type": "code",
   "execution_count": 51,
   "id": "c316877c-04e2-46fc-9c43-d62ddbee3c54",
   "metadata": {},
   "outputs": [
    {
     "name": "stdout",
     "output_type": "stream",
     "text": [
      "[[0.51182162 0.9504637  0.14415961 0.94864945 0.31183145 0.42332645]\n",
      " [0.82770259 0.40919914 0.54959369 0.02755911 0.75351311 0.53814331]\n",
      " [0.32973172 0.7884287  0.30319483 0.45349789 0.1340417  0.40311299]\n",
      " [0.20345524 0.26231334 0.75036467 0.28040876 0.48519097 0.9807372 ]]\n"
     ]
    }
   ],
   "source": [
    "rng = np.random.default_rng(1)\n",
    "data = rng.random((4, 6))\n",
    "print(data)"
   ]
  },
  {
   "cell_type": "code",
   "execution_count": 53,
   "id": "90272ac2-a3eb-4162-941c-0c0c6a89b8b1",
   "metadata": {},
   "outputs": [
    {
     "name": "stdout",
     "output_type": "stream",
     "text": [
      "worker       person_1            person_2            person_3          \n",
      "job             jpb_1     job_2     jpb_1     job_2     jpb_1     job_2\n",
      "city   year                                                            \n",
      "city_1 2010  0.511822  0.950464  0.144160  0.948649  0.311831  0.423326\n",
      "       2020  0.827703  0.409199  0.549594  0.027559  0.753513  0.538143\n",
      "city_2 2010  0.329732  0.788429  0.303195  0.453498  0.134042  0.403113\n",
      "       2020  0.203455  0.262313  0.750365  0.280409  0.485191  0.980737\n"
     ]
    }
   ],
   "source": [
    "data_df = pd.DataFrame(data, index=index, columns=columns)\n",
    "print(data_df)"
   ]
  },
  {
   "cell_type": "code",
   "execution_count": 55,
   "id": "b8b7870f-b059-4867-aea0-63160c9128f8",
   "metadata": {},
   "outputs": [
    {
     "name": "stdout",
     "output_type": "stream",
     "text": [
      "100\n"
     ]
    }
   ],
   "source": [
    "#Индексация и срезы (по мультииндексу)\n",
    "data = {\n",
    "    ('city_1', 2010): 100,\n",
    "    ('city_1', 2020): 101,\n",
    "    ('city_2', 2010): 102,\n",
    "    ('city_2', 2020): 103,\n",
    "    ('city_3', 2010): 104,\n",
    "    ('city_3', 2020): 105,\n",
    "}\n",
    "\n",
    "s = pd.Series(data)\n",
    "s.index.names = ['city', 'year']\n",
    "print(s['city_1', 2010])"
   ]
  },
  {
   "cell_type": "code",
   "execution_count": 57,
   "id": "da393278-ac41-4daa-a93e-2788d838d4f0",
   "metadata": {},
   "outputs": [
    {
     "name": "stdout",
     "output_type": "stream",
     "text": [
      "year\n",
      "2010    100\n",
      "2020    101\n",
      "dtype: int64\n"
     ]
    }
   ],
   "source": [
    "print(s['city_1'])"
   ]
  },
  {
   "cell_type": "code",
   "execution_count": 59,
   "id": "3426ee3f-80a4-4e01-b697-2423128d8366",
   "metadata": {},
   "outputs": [
    {
     "name": "stdout",
     "output_type": "stream",
     "text": [
      "city    year\n",
      "city_1  2010    100\n",
      "        2020    101\n",
      "city_2  2010    102\n",
      "        2020    103\n",
      "dtype: int64\n"
     ]
    }
   ],
   "source": [
    "print(s.loc['city_1':'city_2'])"
   ]
  },
  {
   "cell_type": "code",
   "execution_count": 61,
   "id": "b7d82430-377d-441f-99ac-22328ce2a91a",
   "metadata": {},
   "outputs": [
    {
     "name": "stdout",
     "output_type": "stream",
     "text": [
      "city\n",
      "city_1    100\n",
      "city_2    102\n",
      "city_3    104\n",
      "dtype: int64\n"
     ]
    }
   ],
   "source": [
    "print(s[:, 2010])"
   ]
  },
  {
   "cell_type": "code",
   "execution_count": 63,
   "id": "c042e83b-769d-4cc3-9ce7-a0bf15c2851d",
   "metadata": {},
   "outputs": [
    {
     "name": "stdout",
     "output_type": "stream",
     "text": [
      "Series([], dtype: int64)\n"
     ]
    }
   ],
   "source": [
    "print(s[s > 2010])"
   ]
  },
  {
   "cell_type": "code",
   "execution_count": 65,
   "id": "7559620d-842d-4e69-b5a9-82c25660b233",
   "metadata": {},
   "outputs": [
    {
     "name": "stdout",
     "output_type": "stream",
     "text": [
      "char  int\n",
      "a     1      0.961657\n",
      "      2      0.724790\n",
      "c     1      0.541227\n",
      "      2      0.276891\n",
      "b     1      0.160652\n",
      "      2      0.969925\n",
      "dtype: float64\n",
      "char  int\n",
      "a     1      0.961657\n",
      "      2      0.724790\n",
      "b     1      0.160652\n",
      "      2      0.969925\n",
      "c     1      0.541227\n",
      "      2      0.276891\n",
      "dtype: float64\n",
      "char  int\n",
      "a     1      0.961657\n",
      "      2      0.724790\n",
      "b     1      0.160652\n",
      "      2      0.969925\n",
      "dtype: float64\n"
     ]
    }
   ],
   "source": [
    "#перегруппировка мультииндексов\n",
    "index = pd.MultiIndex.from_product(\n",
    "    [\n",
    "        ['a', 'c', 'b'],\n",
    "        [1, 2]\n",
    "    ]\n",
    ")\n",
    "data = pd.Series(rng.random(6), index=index)\n",
    "data.index.names = ['char', 'int']\n",
    "print(data)\n",
    "#print(data['a':'b'])\n",
    "data = data.sort_index()\n",
    "print(data)\n",
    "print(data['a':'b'])"
   ]
  },
  {
   "cell_type": "code",
   "execution_count": 67,
   "id": "226f8d2c-6333-4a4b-907b-9b9eba85f1a4",
   "metadata": {},
   "outputs": [
    {
     "name": "stdout",
     "output_type": "stream",
     "text": [
      "(city_1, 2010, 1)     101\n",
      "(city_1, 2010, 2)    1010\n",
      "(city_1, 2020, 1)     201\n",
      "(city_1, 2020, 2)    2010\n",
      "(city_2, 2010, 1)     102\n",
      "(city_2, 2010, 2)    1020\n",
      "(city_2, 2020, 1)     202\n",
      "(city_2, 2020, 2)    2020\n",
      "(city_3, 2010, 1)     103\n",
      "(city_3, 2010, 2)    1030\n",
      "(city_3, 2020, 1)     203\n",
      "(city_3, 2020, 2)    2030\n",
      "dtype: int64\n"
     ]
    }
   ],
   "source": [
    "index = [\n",
    "    ('city_1', 2010, 1),\n",
    "    ('city_1', 2010, 2),\n",
    "    \n",
    "    ('city_1', 2020, 1),\n",
    "    ('city_1', 2020, 2),\n",
    "    \n",
    "    ('city_2', 2010, 1),\n",
    "    ('city_2', 2010, 2),\n",
    "    \n",
    "    ('city_2', 2020, 1),\n",
    "    ('city_2', 2020, 2),\n",
    "    \n",
    "    ('city_3', 2010, 1),\n",
    "    ('city_3', 2010, 2),\n",
    "    \n",
    "    ('city_3', 2020, 1),\n",
    "    ('city_3', 2020, 2),\n",
    "]\n",
    "\n",
    "population = [\n",
    "    101,\n",
    "    1010,\n",
    "    201,\n",
    "    2010,\n",
    "    102,\n",
    "    1020,\n",
    "    202,\n",
    "    2020,\n",
    "    103,\n",
    "    1030,\n",
    "    203,\n",
    "    2030\n",
    "]\n",
    "pop = pd.Series(population, index=index)\n",
    "print(pop)"
   ]
  },
  {
   "cell_type": "code",
   "execution_count": 69,
   "id": "29bca984-ce89-455f-9889-67344b61db5f",
   "metadata": {},
   "outputs": [
    {
     "name": "stdout",
     "output_type": "stream",
     "text": [
      "city_1  2010  1     101\n",
      "              2    1010\n",
      "        2020  1     201\n",
      "              2    2010\n",
      "city_2  2010  1     102\n",
      "              2    1020\n",
      "        2020  1     202\n",
      "              2    2020\n",
      "city_3  2010  1     103\n",
      "              2    1030\n",
      "        2020  1     203\n",
      "              2    2030\n",
      "dtype: int64\n"
     ]
    }
   ],
   "source": [
    "i = pd.MultiIndex.from_tuples(index)\n",
    "pop = pop.reindex(i)\n",
    "print(pop)"
   ]
  },
  {
   "cell_type": "code",
   "execution_count": 71,
   "id": "822e5d01-18b2-4d82-9e95-527a11b8bb92",
   "metadata": {},
   "outputs": [
    {
     "name": "stdout",
     "output_type": "stream",
     "text": [
      "        city_1  city_2  city_3\n",
      "2010 1     101     102     103\n",
      "     2    1010    1020    1030\n",
      "2020 1     201     202     203\n",
      "     2    2010    2020    2030\n",
      "          2010  2020\n",
      "city_1 1   101   201\n",
      "       2  1010  2010\n",
      "city_2 1   102   202\n",
      "       2  1020  2020\n",
      "city_3 1   103   203\n",
      "       2  1030  2030\n",
      "               1     2\n",
      "city_1 2010  101  1010\n",
      "       2020  201  2010\n",
      "city_2 2010  102  1020\n",
      "       2020  202  2020\n",
      "city_3 2010  103  1030\n",
      "       2020  203  2030\n"
     ]
    }
   ],
   "source": [
    "print(pop.unstack(level=0))\n",
    "print(pop.unstack(level=1))\n",
    "print(pop.unstack(level=2))"
   ]
  },
  {
   "cell_type": "code",
   "execution_count": 73,
   "id": "ef458675-f30e-4610-a66a-22cb33a7d023",
   "metadata": {},
   "outputs": [
    {
     "name": "stdout",
     "output_type": "stream",
     "text": [
      "[[1 2 3]\n",
      " [4 5 6]\n",
      " [7 8 9]]\n"
     ]
    }
   ],
   "source": [
    "#Конкатенация\n",
    "x = [[1, 2, 3]]\n",
    "y = [[4, 5, 6]]\n",
    "z = [[7, 8, 9]]\n",
    "print(np.concatenate([x, y, z]))"
   ]
  },
  {
   "cell_type": "code",
   "execution_count": 75,
   "id": "fe9d3ad4-d850-4d68-a980-a40b8e0e720e",
   "metadata": {},
   "outputs": [
    {
     "name": "stdout",
     "output_type": "stream",
     "text": [
      "[[1 2 3]\n",
      " [4 5 6]\n",
      " [7 8 9]]\n",
      "[[1 2 3 4 5 6 7 8 9]]\n"
     ]
    }
   ],
   "source": [
    "print(np.concatenate([x, y, z], axis=0))\n",
    "print(np.concatenate([x, y, z], axis=1))"
   ]
  },
  {
   "cell_type": "code",
   "execution_count": 77,
   "id": "607db365-9802-41f0-9711-08a80740a55a",
   "metadata": {},
   "outputs": [
    {
     "name": "stdout",
     "output_type": "stream",
     "text": [
      "1    a\n",
      "2    b\n",
      "3    c\n",
      "4    d\n",
      "5    e\n",
      "6    f\n",
      "dtype: object\n"
     ]
    }
   ],
   "source": [
    "ser1 = pd.Series(['a', 'b', 'c'], index=[1, 2, 3])\n",
    "ser2 = pd.Series(['d', 'e', 'f'], index=[4, 5, 6])\n",
    "print(pd.concat([ser1, ser2]))"
   ]
  },
  {
   "cell_type": "code",
   "execution_count": 79,
   "id": "3c8c5fe8-0e7c-4755-b356-fb14d4ab0a8c",
   "metadata": {},
   "outputs": [
    {
     "name": "stdout",
     "output_type": "stream",
     "text": [
      "1    a\n",
      "2    b\n",
      "3    c\n",
      "1    d\n",
      "2    e\n",
      "6    f\n",
      "dtype: object\n"
     ]
    }
   ],
   "source": [
    "ser1 = pd.Series(['a', 'b', 'c'], index=[1, 2, 3])\n",
    "ser2 = pd.Series(['d', 'e', 'f'], index=[1, 2, 6])\n",
    "print(pd.concat([ser1, ser2]))"
   ]
  },
  {
   "cell_type": "code",
   "execution_count": 81,
   "id": "18785ad2-f14d-4336-98ff-fcbe35e6279f",
   "metadata": {},
   "outputs": [
    {
     "name": "stdout",
     "output_type": "stream",
     "text": [
      "1    a\n",
      "2    b\n",
      "3    c\n",
      "1    d\n",
      "2    e\n",
      "6    f\n",
      "dtype: object\n"
     ]
    }
   ],
   "source": [
    "print(pd.concat([ser1, ser2], verify_integrity=False))"
   ]
  },
  {
   "cell_type": "code",
   "execution_count": 83,
   "id": "01c8a861-af69-4226-a56f-3b56ca33d236",
   "metadata": {},
   "outputs": [
    {
     "ename": "ValueError",
     "evalue": "Indexes have overlapping values: Index([1, 2], dtype='int64')",
     "output_type": "error",
     "traceback": [
      "\u001b[0;31m---------------------------------------------------------------------------\u001b[0m",
      "\u001b[0;31mValueError\u001b[0m                                Traceback (most recent call last)",
      "Cell \u001b[0;32mIn[83], line 1\u001b[0m\n\u001b[0;32m----> 1\u001b[0m \u001b[38;5;28mprint\u001b[39m(pd\u001b[38;5;241m.\u001b[39mconcat([ser1, ser2], verify_integrity\u001b[38;5;241m=\u001b[39m\u001b[38;5;28;01mTrue\u001b[39;00m))\n",
      "File \u001b[0;32m~/anaconda3/lib/python3.11/site-packages/pandas/core/reshape/concat.py:372\u001b[0m, in \u001b[0;36mconcat\u001b[0;34m(objs, axis, join, ignore_index, keys, levels, names, verify_integrity, sort, copy)\u001b[0m\n\u001b[1;32m    369\u001b[0m \u001b[38;5;28;01melif\u001b[39;00m copy \u001b[38;5;129;01mand\u001b[39;00m using_copy_on_write():\n\u001b[1;32m    370\u001b[0m     copy \u001b[38;5;241m=\u001b[39m \u001b[38;5;28;01mFalse\u001b[39;00m\n\u001b[0;32m--> 372\u001b[0m op \u001b[38;5;241m=\u001b[39m _Concatenator(\n\u001b[1;32m    373\u001b[0m     objs,\n\u001b[1;32m    374\u001b[0m     axis\u001b[38;5;241m=\u001b[39maxis,\n\u001b[1;32m    375\u001b[0m     ignore_index\u001b[38;5;241m=\u001b[39mignore_index,\n\u001b[1;32m    376\u001b[0m     join\u001b[38;5;241m=\u001b[39mjoin,\n\u001b[1;32m    377\u001b[0m     keys\u001b[38;5;241m=\u001b[39mkeys,\n\u001b[1;32m    378\u001b[0m     levels\u001b[38;5;241m=\u001b[39mlevels,\n\u001b[1;32m    379\u001b[0m     names\u001b[38;5;241m=\u001b[39mnames,\n\u001b[1;32m    380\u001b[0m     verify_integrity\u001b[38;5;241m=\u001b[39mverify_integrity,\n\u001b[1;32m    381\u001b[0m     copy\u001b[38;5;241m=\u001b[39mcopy,\n\u001b[1;32m    382\u001b[0m     sort\u001b[38;5;241m=\u001b[39msort,\n\u001b[1;32m    383\u001b[0m )\n\u001b[1;32m    385\u001b[0m \u001b[38;5;28;01mreturn\u001b[39;00m op\u001b[38;5;241m.\u001b[39mget_result()\n",
      "File \u001b[0;32m~/anaconda3/lib/python3.11/site-packages/pandas/core/reshape/concat.py:563\u001b[0m, in \u001b[0;36m_Concatenator.__init__\u001b[0;34m(self, objs, axis, join, keys, levels, names, ignore_index, verify_integrity, copy, sort)\u001b[0m\n\u001b[1;32m    560\u001b[0m \u001b[38;5;28mself\u001b[39m\u001b[38;5;241m.\u001b[39mverify_integrity \u001b[38;5;241m=\u001b[39m verify_integrity\n\u001b[1;32m    561\u001b[0m \u001b[38;5;28mself\u001b[39m\u001b[38;5;241m.\u001b[39mcopy \u001b[38;5;241m=\u001b[39m copy\n\u001b[0;32m--> 563\u001b[0m \u001b[38;5;28mself\u001b[39m\u001b[38;5;241m.\u001b[39mnew_axes \u001b[38;5;241m=\u001b[39m \u001b[38;5;28mself\u001b[39m\u001b[38;5;241m.\u001b[39m_get_new_axes()\n",
      "File \u001b[0;32m~/anaconda3/lib/python3.11/site-packages/pandas/core/reshape/concat.py:633\u001b[0m, in \u001b[0;36m_Concatenator._get_new_axes\u001b[0;34m(self)\u001b[0m\n\u001b[1;32m    631\u001b[0m \u001b[38;5;28;01mdef\u001b[39;00m \u001b[38;5;21m_get_new_axes\u001b[39m(\u001b[38;5;28mself\u001b[39m) \u001b[38;5;241m-\u001b[39m\u001b[38;5;241m>\u001b[39m \u001b[38;5;28mlist\u001b[39m[Index]:\n\u001b[1;32m    632\u001b[0m     ndim \u001b[38;5;241m=\u001b[39m \u001b[38;5;28mself\u001b[39m\u001b[38;5;241m.\u001b[39m_get_result_dim()\n\u001b[0;32m--> 633\u001b[0m     \u001b[38;5;28;01mreturn\u001b[39;00m [\n\u001b[1;32m    634\u001b[0m         \u001b[38;5;28mself\u001b[39m\u001b[38;5;241m.\u001b[39m_get_concat_axis \u001b[38;5;28;01mif\u001b[39;00m i \u001b[38;5;241m==\u001b[39m \u001b[38;5;28mself\u001b[39m\u001b[38;5;241m.\u001b[39mbm_axis \u001b[38;5;28;01melse\u001b[39;00m \u001b[38;5;28mself\u001b[39m\u001b[38;5;241m.\u001b[39m_get_comb_axis(i)\n\u001b[1;32m    635\u001b[0m         \u001b[38;5;28;01mfor\u001b[39;00m i \u001b[38;5;129;01min\u001b[39;00m \u001b[38;5;28mrange\u001b[39m(ndim)\n\u001b[1;32m    636\u001b[0m     ]\n",
      "File \u001b[0;32m~/anaconda3/lib/python3.11/site-packages/pandas/core/reshape/concat.py:634\u001b[0m, in \u001b[0;36m<listcomp>\u001b[0;34m(.0)\u001b[0m\n\u001b[1;32m    631\u001b[0m \u001b[38;5;28;01mdef\u001b[39;00m \u001b[38;5;21m_get_new_axes\u001b[39m(\u001b[38;5;28mself\u001b[39m) \u001b[38;5;241m-\u001b[39m\u001b[38;5;241m>\u001b[39m \u001b[38;5;28mlist\u001b[39m[Index]:\n\u001b[1;32m    632\u001b[0m     ndim \u001b[38;5;241m=\u001b[39m \u001b[38;5;28mself\u001b[39m\u001b[38;5;241m.\u001b[39m_get_result_dim()\n\u001b[1;32m    633\u001b[0m     \u001b[38;5;28;01mreturn\u001b[39;00m [\n\u001b[0;32m--> 634\u001b[0m         \u001b[38;5;28mself\u001b[39m\u001b[38;5;241m.\u001b[39m_get_concat_axis \u001b[38;5;28;01mif\u001b[39;00m i \u001b[38;5;241m==\u001b[39m \u001b[38;5;28mself\u001b[39m\u001b[38;5;241m.\u001b[39mbm_axis \u001b[38;5;28;01melse\u001b[39;00m \u001b[38;5;28mself\u001b[39m\u001b[38;5;241m.\u001b[39m_get_comb_axis(i)\n\u001b[1;32m    635\u001b[0m         \u001b[38;5;28;01mfor\u001b[39;00m i \u001b[38;5;129;01min\u001b[39;00m \u001b[38;5;28mrange\u001b[39m(ndim)\n\u001b[1;32m    636\u001b[0m     ]\n",
      "File \u001b[0;32m~/anaconda3/lib/python3.11/site-packages/pandas/_libs/properties.pyx:36\u001b[0m, in \u001b[0;36mpandas._libs.properties.CachedProperty.__get__\u001b[0;34m()\u001b[0m\n",
      "File \u001b[0;32m~/anaconda3/lib/python3.11/site-packages/pandas/core/reshape/concat.py:697\u001b[0m, in \u001b[0;36m_Concatenator._get_concat_axis\u001b[0;34m(self)\u001b[0m\n\u001b[1;32m    692\u001b[0m \u001b[38;5;28;01melse\u001b[39;00m:\n\u001b[1;32m    693\u001b[0m     concat_axis \u001b[38;5;241m=\u001b[39m _make_concat_multiindex(\n\u001b[1;32m    694\u001b[0m         indexes, \u001b[38;5;28mself\u001b[39m\u001b[38;5;241m.\u001b[39mkeys, \u001b[38;5;28mself\u001b[39m\u001b[38;5;241m.\u001b[39mlevels, \u001b[38;5;28mself\u001b[39m\u001b[38;5;241m.\u001b[39mnames\n\u001b[1;32m    695\u001b[0m     )\n\u001b[0;32m--> 697\u001b[0m \u001b[38;5;28mself\u001b[39m\u001b[38;5;241m.\u001b[39m_maybe_check_integrity(concat_axis)\n\u001b[1;32m    699\u001b[0m \u001b[38;5;28;01mreturn\u001b[39;00m concat_axis\n",
      "File \u001b[0;32m~/anaconda3/lib/python3.11/site-packages/pandas/core/reshape/concat.py:705\u001b[0m, in \u001b[0;36m_Concatenator._maybe_check_integrity\u001b[0;34m(self, concat_index)\u001b[0m\n\u001b[1;32m    703\u001b[0m \u001b[38;5;28;01mif\u001b[39;00m \u001b[38;5;129;01mnot\u001b[39;00m concat_index\u001b[38;5;241m.\u001b[39mis_unique:\n\u001b[1;32m    704\u001b[0m     overlap \u001b[38;5;241m=\u001b[39m concat_index[concat_index\u001b[38;5;241m.\u001b[39mduplicated()]\u001b[38;5;241m.\u001b[39munique()\n\u001b[0;32m--> 705\u001b[0m     \u001b[38;5;28;01mraise\u001b[39;00m \u001b[38;5;167;01mValueError\u001b[39;00m(\u001b[38;5;124mf\u001b[39m\u001b[38;5;124m\"\u001b[39m\u001b[38;5;124mIndexes have overlapping values: \u001b[39m\u001b[38;5;132;01m{\u001b[39;00moverlap\u001b[38;5;132;01m}\u001b[39;00m\u001b[38;5;124m\"\u001b[39m)\n",
      "\u001b[0;31mValueError\u001b[0m: Indexes have overlapping values: Index([1, 2], dtype='int64')"
     ]
    }
   ],
   "source": [
    "print(pd.concat([ser1, ser2], verify_integrity=True))"
   ]
  },
  {
   "cell_type": "code",
   "execution_count": 85,
   "id": "558870d4-a993-4f44-beab-6652d3ccf9ae",
   "metadata": {},
   "outputs": [
    {
     "name": "stdout",
     "output_type": "stream",
     "text": [
      "1    a\n",
      "2    b\n",
      "3    c\n",
      "1    d\n",
      "2    e\n",
      "6    f\n",
      "dtype: object\n"
     ]
    }
   ],
   "source": [
    "print(pd.concat([ser1, ser2], ignore_index=False))"
   ]
  },
  {
   "cell_type": "code",
   "execution_count": 87,
   "id": "9f2d30e2-13b7-4640-8586-dd65ec3b0150",
   "metadata": {},
   "outputs": [
    {
     "name": "stdout",
     "output_type": "stream",
     "text": [
      "0    a\n",
      "1    b\n",
      "2    c\n",
      "3    d\n",
      "4    e\n",
      "5    f\n",
      "dtype: object\n"
     ]
    }
   ],
   "source": [
    "print(pd.concat([ser1, ser2], ignore_index=True))"
   ]
  },
  {
   "cell_type": "code",
   "execution_count": 89,
   "id": "ca30f9a3-81b6-46b0-9615-3ff9e3f0e542",
   "metadata": {},
   "outputs": [
    {
     "name": "stdout",
     "output_type": "stream",
     "text": [
      "x  1    a\n",
      "   2    b\n",
      "   3    c\n",
      "y  1    d\n",
      "   2    e\n",
      "   6    f\n",
      "dtype: object\n"
     ]
    }
   ],
   "source": [
    "print(pd.concat([ser1, ser2], keys=['x', 'y']))"
   ]
  },
  {
   "cell_type": "code",
   "execution_count": 91,
   "id": "6e3f61d6-f7ea-47df-bff6-5f1da0907e56",
   "metadata": {},
   "outputs": [
    {
     "name": "stdout",
     "output_type": "stream",
     "text": [
      "1    a\n",
      "2    b\n",
      "3    c\n",
      "4    b\n",
      "5    e\n",
      "6    f\n",
      "dtype: object\n"
     ]
    }
   ],
   "source": [
    "ser1 = pd.Series(['a', 'b', 'c'], index=[1, 2, 3])\n",
    "ser2 = pd.Series(['b', 'e', 'f'], index=[4, 5, 6])\n",
    "print(pd.concat([ser1, ser2], join='outer'))"
   ]
  },
  {
   "cell_type": "code",
   "execution_count": 93,
   "id": "42c7a337-a96c-4fb0-831a-47b6b293c459",
   "metadata": {},
   "outputs": [
    {
     "name": "stdout",
     "output_type": "stream",
     "text": [
      "1    a\n",
      "2    b\n",
      "3    c\n",
      "4    b\n",
      "5    e\n",
      "6    f\n",
      "dtype: object\n"
     ]
    }
   ],
   "source": [
    "print(pd.concat([ser1, ser2], join='inner'))"
   ]
  },
  {
   "cell_type": "code",
   "execution_count": null,
   "id": "08a43adf-8451-4149-9e16-f0263d55685c",
   "metadata": {},
   "outputs": [],
   "source": []
  }
 ],
 "metadata": {
  "kernelspec": {
   "display_name": "Python [conda env:base] *",
   "language": "python",
   "name": "conda-base-py"
  },
  "language_info": {
   "codemirror_mode": {
    "name": "ipython",
    "version": 3
   },
   "file_extension": ".py",
   "mimetype": "text/x-python",
   "name": "python",
   "nbconvert_exporter": "python",
   "pygments_lexer": "ipython3",
   "version": "3.11.5"
  }
 },
 "nbformat": 4,
 "nbformat_minor": 5
}
